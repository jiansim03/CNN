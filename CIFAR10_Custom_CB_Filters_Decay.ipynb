{
  "nbformat": 4,
  "nbformat_minor": 0,
  "metadata": {
    "colab": {
      "provenance": [],
      "gpuType": "T4",
      "toc_visible": true,
      "authorship_tag": "ABX9TyMnB03eIZQB81ERfzja7KwO"
    },
    "kernelspec": {
      "name": "python3",
      "display_name": "Python 3"
    },
    "language_info": {
      "name": "python"
    },
    "accelerator": "GPU"
  },
  "cells": [
    {
      "cell_type": "code",
      "source": [
        " !nvidia-smi"
      ],
      "metadata": {
        "id": "GE3xUFfm3YYK",
        "outputId": "1c1a5e6a-75c6-47ac-f5ee-82929e726358",
        "colab": {
          "base_uri": "https://localhost:8080/"
        }
      },
      "execution_count": null,
      "outputs": [
        {
          "output_type": "stream",
          "name": "stdout",
          "text": [
            "Fri Sep  8 22:11:12 2023       \n",
            "+-----------------------------------------------------------------------------+\n",
            "| NVIDIA-SMI 525.105.17   Driver Version: 525.105.17   CUDA Version: 12.0     |\n",
            "|-------------------------------+----------------------+----------------------+\n",
            "| GPU  Name        Persistence-M| Bus-Id        Disp.A | Volatile Uncorr. ECC |\n",
            "| Fan  Temp  Perf  Pwr:Usage/Cap|         Memory-Usage | GPU-Util  Compute M. |\n",
            "|                               |                      |               MIG M. |\n",
            "|===============================+======================+======================|\n",
            "|   0  Tesla T4            Off  | 00000000:00:04.0 Off |                    0 |\n",
            "| N/A   61C    P8    13W /  70W |      0MiB / 15360MiB |      0%      Default |\n",
            "|                               |                      |                  N/A |\n",
            "+-------------------------------+----------------------+----------------------+\n",
            "                                                                               \n",
            "+-----------------------------------------------------------------------------+\n",
            "| Processes:                                                                  |\n",
            "|  GPU   GI   CI        PID   Type   Process name                  GPU Memory |\n",
            "|        ID   ID                                                   Usage      |\n",
            "|=============================================================================|\n",
            "|  No running processes found                                                 |\n",
            "+-----------------------------------------------------------------------------+\n"
          ]
        }
      ]
    },
    {
      "cell_type": "code",
      "source": [
        "%config Completer.use_jedi = False"
      ],
      "metadata": {
        "id": "7OeJI_s6F6S7"
      },
      "execution_count": null,
      "outputs": []
    },
    {
      "cell_type": "markdown",
      "source": [
        "### 데이터 전처리 수행.\n",
        "* 학습/검증/테스트 데이터 세트로 나누고 원-핫 인코딩 수행"
      ],
      "metadata": {
        "id": "GGNEhY8H4dn8"
      }
    },
    {
      "cell_type": "code",
      "source": [
        "import tensorflow as tf\n",
        "import numpy as np\n",
        "import pandas as pd\n",
        "\n",
        "import random as python_random\n",
        "from tensorflow.keras.utils import to_categorical\n",
        "from sklearn.model_selection import train_test_split\n",
        "from tensorflow.keras.datasets import cifar10\n",
        "\n",
        "# seed 를 설정해서 학습시마다 동일한 결과 유도. 불행히도 의도한 대로 동작하지 않음.\n",
        "def set_random_seed(seed_value):\n",
        "    np.random.seed(seed_value)\n",
        "    python_random.seed(seed_value)\n",
        "    tf.random.set_seed(seed_value)\n",
        "\n",
        "# 0 ~ 1사이값의 float32로 변경하는 함수\n",
        "def get_preprocessed_data(images, labels):\n",
        "\n",
        "    # 학습과 테스트 이미지 array를 0~1 사이값으로 scale 및 float32 형 변형.\n",
        "    images = np.array(images/255.0, dtype=np.float32)\n",
        "    labels = np.array(labels, dtype=np.float32)\n",
        "\n",
        "    return images, labels\n",
        "\n",
        "# 0 ~ 1사이값 float32로 변경하는 함수 호출 한 뒤 OHE 적용\n",
        "def get_preprocessed_ohe(images, labels):\n",
        "    images, labels = get_preprocessed_data(images, labels)\n",
        "    # OHE 적용\n",
        "    oh_labels = to_categorical(labels)\n",
        "    return images, oh_labels\n",
        "\n",
        "# 학습/검증/테스트 데이터 세트에 전처리 및 OHE 적용한 뒤 반환\n",
        "def get_train_valid_test_set(train_images, train_labels, test_images, test_labels, valid_size=0.15, random_state=2021):\n",
        "    # 학습 및 테스트 데이터 세트를  0 ~ 1사이값 float32로 변경 및 OHE 적용.\n",
        "    train_images, train_oh_labels = get_preprocessed_ohe(train_images, train_labels)\n",
        "    test_images, test_oh_labels = get_preprocessed_ohe(test_images, test_labels)\n",
        "\n",
        "    # 학습 데이터를 검증 데이터 세트로 다시 분리\n",
        "    tr_images, val_images, tr_oh_labels, val_oh_labels = train_test_split(train_images, train_oh_labels, test_size=valid_size, random_state=random_state)\n",
        "\n",
        "    return (tr_images, tr_oh_labels), (val_images, val_oh_labels), (test_images, test_oh_labels )\n",
        "\n",
        "\n",
        "# random seed는 2021로 고정.\n",
        "set_random_seed(2021)\n",
        "# CIFAR10 데이터 재 로딩 및 Scaling/OHE 전처리 적용하여 학습/검증/데이터 세트 생성.\n",
        "(train_images, train_labels), (test_images, test_labels) = cifar10.load_data()\n",
        "print(train_images.shape, train_labels.shape, test_images.shape, test_labels.shape)\n",
        "(tr_images, tr_oh_labels), (val_images, val_oh_labels), (test_images, test_oh_labels) = \\\n",
        "    get_train_valid_test_set(train_images, train_labels, test_images, test_labels, valid_size=0.15, random_state=2021)\n",
        "\n",
        "print(tr_images.shape, tr_oh_labels.shape, val_images.shape, val_oh_labels.shape, test_images.shape, test_oh_labels.shape)"
      ],
      "metadata": {
        "colab": {
          "base_uri": "https://localhost:8080/"
        },
        "id": "m6ZMLWpf4gek",
        "outputId": "4950c4d3-9ce2-4c19-e99d-66956848e77b"
      },
      "execution_count": null,
      "outputs": [
        {
          "output_type": "stream",
          "name": "stdout",
          "text": [
            "Downloading data from https://www.cs.toronto.edu/~kriz/cifar-10-python.tar.gz\n",
            "170498071/170498071 [==============================] - 4s 0us/step\n",
            "(50000, 32, 32, 3) (50000, 1) (10000, 32, 32, 3) (10000, 1)\n",
            "(42500, 32, 32, 3) (42500, 10) (7500, 32, 32, 3) (7500, 10) (10000, 32, 32, 3) (10000, 10)\n"
          ]
        }
      ]
    },
    {
      "cell_type": "code",
      "source": [
        "IMAGE_SIZE = 32"
      ],
      "metadata": {
        "id": "wAR7HmYP44TX"
      },
      "execution_count": null,
      "outputs": []
    },
    {
      "cell_type": "markdown",
      "source": [
        "### 모델 생성 함수 생성"
      ],
      "metadata": {
        "id": "jopquIH54pWJ"
      }
    },
    {
      "cell_type": "code",
      "source": [
        "from tensorflow.keras.models import Sequential, Model\n",
        "from tensorflow.keras.layers import Input, Dense , Conv2D , Dropout , Flatten , Activation, MaxPooling2D , GlobalAveragePooling2D\n",
        "from tensorflow.keras.optimizers import Adam , RMSprop\n",
        "from tensorflow.keras.layers import BatchNormalization\n",
        "from tensorflow.keras.callbacks import ReduceLROnPlateau , EarlyStopping , ModelCheckpoint , LearningRateScheduler\n",
        "\n",
        "def create_model(verbose=False):\n",
        "    input_tensor = Input(shape=(IMAGE_SIZE, IMAGE_SIZE, 3))\n",
        "\n",
        "    #x = Conv2D(filters=32, kernel_size=(5, 5), padding='valid', activation='relu')(input_tensor)\n",
        "    x = Conv2D(filters=32, kernel_size=(3, 3), padding='same')(input_tensor)\n",
        "    x = BatchNormalization()(x)\n",
        "    x = Activation('relu')(x)\n",
        "\n",
        "    x = Conv2D(filters=32, kernel_size=(3, 3), padding='same')(x)\n",
        "    x = BatchNormalization()(x)\n",
        "    x = Activation('relu')(x)\n",
        "    x = MaxPooling2D(pool_size=(2, 2))(x)\n",
        "\n",
        "    x = Conv2D(filters=64, kernel_size=3, padding='same')(x)\n",
        "    x = BatchNormalization()(x)\n",
        "    x = Activation('relu')(x)\n",
        "\n",
        "    x = Conv2D(filters=64, kernel_size=3, padding='same')(x)\n",
        "    x = Activation('relu')(x)\n",
        "    x = Activation('relu')(x)\n",
        "    x = MaxPooling2D(pool_size=2)(x)\n",
        "\n",
        "    x = Conv2D(filters=128, kernel_size=3, padding='same')(x)\n",
        "    x = BatchNormalization()(x)\n",
        "    x = Activation('relu')(x)\n",
        "\n",
        "    x = Conv2D(filters=128, kernel_size=3, padding='same')(x)\n",
        "    x = BatchNormalization()(x)\n",
        "    x = Activation('relu')(x)\n",
        "    x = MaxPooling2D(pool_size=2)(x)\n",
        "\n",
        "    # cifar10의 클래스가 10개 이므로 마지막 classification의 Dense layer units갯수는 10\n",
        "    x = Flatten(name='flatten')(x)\n",
        "    x = Dropout(rate=0.5)(x)\n",
        "    x = Dense(300, activation='relu', name='fc1')(x)\n",
        "    x = Dropout(rate=0.3)(x)\n",
        "    output = Dense(10, activation='softmax', name='output')(x)\n",
        "\n",
        "    model = Model(inputs=input_tensor, outputs=output)\n",
        "\n",
        "    if verbose:\n",
        "        model.summary()\n",
        "\n",
        "    return model"
      ],
      "metadata": {
        "id": "o4L432fT4hDW"
      },
      "execution_count": null,
      "outputs": []
    },
    {
      "cell_type": "code",
      "source": [
        "create_model(verbose=True)"
      ],
      "metadata": {
        "colab": {
          "base_uri": "https://localhost:8080/"
        },
        "id": "VkoEka7h4vB3",
        "outputId": "f54b4179-ea07-449d-9748-c6ca6ab8a661"
      },
      "execution_count": null,
      "outputs": [
        {
          "output_type": "stream",
          "name": "stdout",
          "text": [
            "Model: \"model\"\n",
            "_________________________________________________________________\n",
            " Layer (type)                Output Shape              Param #   \n",
            "=================================================================\n",
            " input_1 (InputLayer)        [(None, 32, 32, 3)]       0         \n",
            "                                                                 \n",
            " conv2d (Conv2D)             (None, 32, 32, 32)        896       \n",
            "                                                                 \n",
            " batch_normalization (Batch  (None, 32, 32, 32)        128       \n",
            " Normalization)                                                  \n",
            "                                                                 \n",
            " activation (Activation)     (None, 32, 32, 32)        0         \n",
            "                                                                 \n",
            " conv2d_1 (Conv2D)           (None, 32, 32, 32)        9248      \n",
            "                                                                 \n",
            " batch_normalization_1 (Bat  (None, 32, 32, 32)        128       \n",
            " chNormalization)                                                \n",
            "                                                                 \n",
            " activation_1 (Activation)   (None, 32, 32, 32)        0         \n",
            "                                                                 \n",
            " max_pooling2d (MaxPooling2  (None, 16, 16, 32)        0         \n",
            " D)                                                              \n",
            "                                                                 \n",
            " conv2d_2 (Conv2D)           (None, 16, 16, 64)        18496     \n",
            "                                                                 \n",
            " batch_normalization_2 (Bat  (None, 16, 16, 64)        256       \n",
            " chNormalization)                                                \n",
            "                                                                 \n",
            " activation_2 (Activation)   (None, 16, 16, 64)        0         \n",
            "                                                                 \n",
            " conv2d_3 (Conv2D)           (None, 16, 16, 64)        36928     \n",
            "                                                                 \n",
            " activation_3 (Activation)   (None, 16, 16, 64)        0         \n",
            "                                                                 \n",
            " activation_4 (Activation)   (None, 16, 16, 64)        0         \n",
            "                                                                 \n",
            " max_pooling2d_1 (MaxPoolin  (None, 8, 8, 64)          0         \n",
            " g2D)                                                            \n",
            "                                                                 \n",
            " conv2d_4 (Conv2D)           (None, 8, 8, 128)         73856     \n",
            "                                                                 \n",
            " batch_normalization_3 (Bat  (None, 8, 8, 128)         512       \n",
            " chNormalization)                                                \n",
            "                                                                 \n",
            " activation_5 (Activation)   (None, 8, 8, 128)         0         \n",
            "                                                                 \n",
            " conv2d_5 (Conv2D)           (None, 8, 8, 128)         147584    \n",
            "                                                                 \n",
            " batch_normalization_4 (Bat  (None, 8, 8, 128)         512       \n",
            " chNormalization)                                                \n",
            "                                                                 \n",
            " activation_6 (Activation)   (None, 8, 8, 128)         0         \n",
            "                                                                 \n",
            " max_pooling2d_2 (MaxPoolin  (None, 4, 4, 128)         0         \n",
            " g2D)                                                            \n",
            "                                                                 \n",
            " flatten (Flatten)           (None, 2048)              0         \n",
            "                                                                 \n",
            " dropout (Dropout)           (None, 2048)              0         \n",
            "                                                                 \n",
            " fc1 (Dense)                 (None, 300)               614700    \n",
            "                                                                 \n",
            " dropout_1 (Dropout)         (None, 300)               0         \n",
            "                                                                 \n",
            " output (Dense)              (None, 10)                3010      \n",
            "                                                                 \n",
            "=================================================================\n",
            "Total params: 906254 (3.46 MB)\n",
            "Trainable params: 905486 (3.45 MB)\n",
            "Non-trainable params: 768 (3.00 KB)\n",
            "_________________________________________________________________\n"
          ]
        },
        {
          "output_type": "execute_result",
          "data": {
            "text/plain": [
              "<keras.src.engine.functional.Functional at 0x7b47119a71c0>"
            ]
          },
          "metadata": {},
          "execution_count": 6
        }
      ]
    },
    {
      "cell_type": "markdown",
      "source": [
        "### Learning Rate와 Early Stopping을 위한 Callback 생성\n",
        "**Learning Rate의 동적 변경**은 `ReducLROnPlateau`, **모델 Ealry Stopping**은 `Ealry Stopping` Callback을 이용\n"
      ],
      "metadata": {
        "id": "a-cPl-4Q4-Rh"
      }
    },
    {
      "cell_type": "code",
      "source": [
        "# ModelCheckPoint를 동작시키기 전에 기존 저장된 모델은 모두 삭제\n",
        "!rm *.hdf5"
      ],
      "metadata": {
        "colab": {
          "base_uri": "https://localhost:8080/"
        },
        "id": "qPfl-WIQ4woW",
        "outputId": "03436248-9f71-4b59-807a-9502314b59a2"
      },
      "execution_count": null,
      "outputs": [
        {
          "output_type": "stream",
          "name": "stdout",
          "text": [
            "rm: cannot remove '*.hdf5': No such file or directory\n"
          ]
        }
      ]
    },
    {
      "cell_type": "code",
      "source": [
        "from tensorflow.keras.callbacks import ReduceLROnPlateau\n",
        "from tensorflow.keras.callbacks import EarlyStopping, ModelCheckpoint\n",
        "\n",
        "\n",
        "\n",
        "model = create_model()\n",
        "model.compile(optimizer=Adam(lr=0.0001), loss='categorical_crossentropy', metrics=['accuracy'])\n",
        "\n",
        "# [callbacks]: validation loss가 향상되는 모델만 저장\n",
        "checkpoint_path = '/content/weights.{epoch:02d}-{val_loss:.2f}.hdf5'\n",
        "mcp_cb = ModelCheckpoint(filepath=checkpoint_path, monitor='val_loss',\n",
        "                         save_best_only=True, save_weights_only=True, mode='min', period=1, verbose=0)\n",
        "\n",
        "# [ReduceLROnPlateau] : 5번 iteration내에 validation loss가 향상되지 않으면 learning rate을 기존 learning rate * 0.2로 줄임.\n",
        "rlr_cb = ReduceLROnPlateau(monitor='val_loss', factor=0.2, patience=5, mode='min', verbose=1)\n",
        "\n",
        "# [EarlyStopping]10번 iteration내에 validation loss가 향상되지 않으면 더 이상 학습하지 않고 종료\n",
        "ely_cb = EarlyStopping(monitor='val_loss', patience=10, mode='min', verbose=1)\n",
        "\n",
        "history = model.fit(x=tr_images, y=tr_oh_labels, batch_size=32, epochs=30, shuffle=True,\n",
        "                    validation_data=(val_images, val_oh_labels),\n",
        "                    callbacks=[mcp_cb, rlr_cb, ely_cb]) # 위에서 지정한 학습 옵션들 넣어주기"
      ],
      "metadata": {
        "colab": {
          "base_uri": "https://localhost:8080/"
        },
        "id": "yIzg3eBz5mQa",
        "outputId": "ad33b9b0-0654-495d-eb35-91243c9ff148"
      },
      "execution_count": null,
      "outputs": [
        {
          "output_type": "stream",
          "name": "stderr",
          "text": [
            "WARNING:absl:`lr` is deprecated in Keras optimizer, please use `learning_rate` or use the legacy optimizer, e.g.,tf.keras.optimizers.legacy.Adam.\n",
            "WARNING:tensorflow:`period` argument is deprecated. Please use `save_freq` to specify the frequency in number of batches seen.\n"
          ]
        },
        {
          "output_type": "stream",
          "name": "stdout",
          "text": [
            "Epoch 1/30\n",
            "1329/1329 [==============================] - 26s 9ms/step - loss: 1.5591 - accuracy: 0.4339 - val_loss: 1.2564 - val_accuracy: 0.5433 - lr: 0.0010\n",
            "Epoch 2/30\n",
            "1329/1329 [==============================] - 10s 8ms/step - loss: 1.1063 - accuracy: 0.6082 - val_loss: 0.9478 - val_accuracy: 0.6607 - lr: 0.0010\n",
            "Epoch 3/30\n",
            "1329/1329 [==============================] - 12s 9ms/step - loss: 0.9205 - accuracy: 0.6786 - val_loss: 0.8133 - val_accuracy: 0.7216 - lr: 0.0010\n",
            "Epoch 4/30\n",
            "1329/1329 [==============================] - 12s 9ms/step - loss: 0.8038 - accuracy: 0.7223 - val_loss: 0.7145 - val_accuracy: 0.7565 - lr: 0.0010\n",
            "Epoch 5/30\n",
            "1329/1329 [==============================] - 12s 9ms/step - loss: 0.7228 - accuracy: 0.7533 - val_loss: 0.8030 - val_accuracy: 0.7281 - lr: 0.0010\n",
            "Epoch 6/30\n",
            "1329/1329 [==============================] - 12s 9ms/step - loss: 0.6478 - accuracy: 0.7761 - val_loss: 1.0835 - val_accuracy: 0.6628 - lr: 0.0010\n",
            "Epoch 7/30\n",
            "1329/1329 [==============================] - 13s 10ms/step - loss: 0.5862 - accuracy: 0.8014 - val_loss: 0.6281 - val_accuracy: 0.7853 - lr: 0.0010\n",
            "Epoch 8/30\n",
            "1329/1329 [==============================] - 12s 9ms/step - loss: 0.5425 - accuracy: 0.8151 - val_loss: 0.7813 - val_accuracy: 0.7360 - lr: 0.0010\n",
            "Epoch 9/30\n",
            "1329/1329 [==============================] - 12s 9ms/step - loss: 0.4924 - accuracy: 0.8299 - val_loss: 0.9241 - val_accuracy: 0.7184 - lr: 0.0010\n",
            "Epoch 10/30\n",
            "1329/1329 [==============================] - 12s 9ms/step - loss: 0.4588 - accuracy: 0.8435 - val_loss: 0.5291 - val_accuracy: 0.8228 - lr: 0.0010\n",
            "Epoch 11/30\n",
            "1329/1329 [==============================] - 12s 9ms/step - loss: 0.4231 - accuracy: 0.8543 - val_loss: 0.5211 - val_accuracy: 0.8252 - lr: 0.0010\n",
            "Epoch 12/30\n",
            "1329/1329 [==============================] - 12s 9ms/step - loss: 0.3897 - accuracy: 0.8655 - val_loss: 0.7275 - val_accuracy: 0.7772 - lr: 0.0010\n",
            "Epoch 13/30\n",
            "1329/1329 [==============================] - 12s 9ms/step - loss: 0.3609 - accuracy: 0.8756 - val_loss: 0.5587 - val_accuracy: 0.8140 - lr: 0.0010\n",
            "Epoch 14/30\n",
            "1329/1329 [==============================] - 12s 9ms/step - loss: 0.3353 - accuracy: 0.8844 - val_loss: 0.6043 - val_accuracy: 0.8079 - lr: 0.0010\n",
            "Epoch 15/30\n",
            "1329/1329 [==============================] - 12s 9ms/step - loss: 0.3139 - accuracy: 0.8915 - val_loss: 0.5325 - val_accuracy: 0.8292 - lr: 0.0010\n",
            "Epoch 16/30\n",
            "1326/1329 [============================>.] - ETA: 0s - loss: 0.2926 - accuracy: 0.8997\n",
            "Epoch 16: ReduceLROnPlateau reducing learning rate to 0.00020000000949949026.\n",
            "1329/1329 [==============================] - 12s 9ms/step - loss: 0.2926 - accuracy: 0.8997 - val_loss: 0.5828 - val_accuracy: 0.8168 - lr: 0.0010\n",
            "Epoch 17/30\n",
            "1329/1329 [==============================] - 13s 10ms/step - loss: 0.1888 - accuracy: 0.9347 - val_loss: 0.4767 - val_accuracy: 0.8552 - lr: 2.0000e-04\n",
            "Epoch 18/30\n",
            "1329/1329 [==============================] - 11s 9ms/step - loss: 0.1562 - accuracy: 0.9458 - val_loss: 0.5077 - val_accuracy: 0.8584 - lr: 2.0000e-04\n",
            "Epoch 19/30\n",
            "1329/1329 [==============================] - 12s 9ms/step - loss: 0.1359 - accuracy: 0.9515 - val_loss: 0.5152 - val_accuracy: 0.8591 - lr: 2.0000e-04\n",
            "Epoch 20/30\n",
            "1329/1329 [==============================] - 12s 9ms/step - loss: 0.1255 - accuracy: 0.9554 - val_loss: 0.5305 - val_accuracy: 0.8569 - lr: 2.0000e-04\n",
            "Epoch 21/30\n",
            "1329/1329 [==============================] - 10s 8ms/step - loss: 0.1163 - accuracy: 0.9577 - val_loss: 0.5375 - val_accuracy: 0.8599 - lr: 2.0000e-04\n",
            "Epoch 22/30\n",
            "1327/1329 [============================>.] - ETA: 0s - loss: 0.1038 - accuracy: 0.9626\n",
            "Epoch 22: ReduceLROnPlateau reducing learning rate to 4.0000001899898055e-05.\n",
            "1329/1329 [==============================] - 11s 8ms/step - loss: 0.1038 - accuracy: 0.9626 - val_loss: 0.5702 - val_accuracy: 0.8587 - lr: 2.0000e-04\n",
            "Epoch 23/30\n",
            "1329/1329 [==============================] - 11s 8ms/step - loss: 0.0873 - accuracy: 0.9696 - val_loss: 0.5461 - val_accuracy: 0.8629 - lr: 4.0000e-05\n",
            "Epoch 24/30\n",
            "1329/1329 [==============================] - 11s 8ms/step - loss: 0.0820 - accuracy: 0.9724 - val_loss: 0.5581 - val_accuracy: 0.8625 - lr: 4.0000e-05\n",
            "Epoch 25/30\n",
            "1329/1329 [==============================] - 11s 8ms/step - loss: 0.0799 - accuracy: 0.9718 - val_loss: 0.5591 - val_accuracy: 0.8607 - lr: 4.0000e-05\n",
            "Epoch 26/30\n",
            "1329/1329 [==============================] - 11s 8ms/step - loss: 0.0774 - accuracy: 0.9730 - val_loss: 0.5578 - val_accuracy: 0.8635 - lr: 4.0000e-05\n",
            "Epoch 27/30\n",
            "1325/1329 [============================>.] - ETA: 0s - loss: 0.0703 - accuracy: 0.9755\n",
            "Epoch 27: ReduceLROnPlateau reducing learning rate to 8.000000525498762e-06.\n",
            "1329/1329 [==============================] - 11s 8ms/step - loss: 0.0703 - accuracy: 0.9755 - val_loss: 0.5818 - val_accuracy: 0.8589 - lr: 4.0000e-05\n",
            "Epoch 27: early stopping\n"
          ]
        }
      ]
    },
    {
      "cell_type": "code",
      "source": [
        "# 평가\n",
        "model.evaluate(test_images, test_oh_labels)"
      ],
      "metadata": {
        "colab": {
          "base_uri": "https://localhost:8080/"
        },
        "id": "7-xe8QkHE5e8",
        "outputId": "77835d0f-8cc7-44b8-8930-13420a529848"
      },
      "execution_count": null,
      "outputs": [
        {
          "output_type": "stream",
          "name": "stdout",
          "text": [
            "313/313 [==============================] - 2s 6ms/step - loss: 0.6226 - accuracy: 0.8576\n"
          ]
        },
        {
          "output_type": "execute_result",
          "data": {
            "text/plain": [
              "[0.6226043105125427, 0.8575999736785889]"
            ]
          },
          "metadata": {},
          "execution_count": 9
        }
      ]
    },
    {
      "cell_type": "code",
      "source": [
        "# 위에서 저장한 가중치들을 확인하자\n",
        "!ls -lia # 현재 경로 파일 출력 (-1 : 자세히, -i  파일의 inode번호도 출력, -a: 숨김파일 출력)"
      ],
      "metadata": {
        "colab": {
          "base_uri": "https://localhost:8080/"
        },
        "id": "wXXjsfnoHXBC",
        "outputId": "c22a33aa-0ec0-4626-eb48-a68bea5adf3e"
      },
      "execution_count": null,
      "outputs": [
        {
          "output_type": "stream",
          "name": "stdout",
          "text": [
            "total 28816\n",
            " 524304 drwxr-xr-x 1 root root    4096 Sep  8 22:15 .\n",
            "     33 drwxr-xr-x 1 root root    4096 Sep  8 22:09 ..\n",
            "3276807 drwxr-xr-x 4 root root    4096 Sep  7 13:23 .config\n",
            " 524305 drwxr-xr-x 1 root root    4096 Sep  7 13:24 sample_data\n",
            "    139 -rw-r--r-- 1 root root 3685024 Sep  8 22:12 weights.01-1.26.hdf5\n",
            "    140 -rw-r--r-- 1 root root 3685024 Sep  8 22:12 weights.02-0.95.hdf5\n",
            "    141 -rw-r--r-- 1 root root 3685024 Sep  8 22:12 weights.03-0.81.hdf5\n",
            "    142 -rw-r--r-- 1 root root 3685024 Sep  8 22:12 weights.04-0.71.hdf5\n",
            "    143 -rw-r--r-- 1 root root 3685024 Sep  8 22:13 weights.07-0.63.hdf5\n",
            "    144 -rw-r--r-- 1 root root 3685024 Sep  8 22:13 weights.10-0.53.hdf5\n",
            "    145 -rw-r--r-- 1 root root 3685024 Sep  8 22:13 weights.11-0.52.hdf5\n",
            "    146 -rw-r--r-- 1 root root 3685024 Sep  8 22:15 weights.17-0.48.hdf5\n"
          ]
        }
      ]
    },
    {
      "cell_type": "markdown",
      "source": [
        "### 최적 weight를 모델로 재 로딩한 다음에 테스트 데이터로 다시 평가"
      ],
      "metadata": {
        "id": "vvBiBBUHIM1p"
      }
    },
    {
      "cell_type": "code",
      "source": [
        "model = create_model() # save_weight_only 사용시 가중치를 얹힐 모델 틀은 만들어 놔야 한다\n",
        "model.compile(optimizer=Adam(learning_rate=0.001), loss='categorical_crossentropy', metrics=['accuracy'])\n",
        "model.load_weights('/content/weights.17-0.48.hdf5')"
      ],
      "metadata": {
        "id": "H6bhpP0THrxu"
      },
      "execution_count": null,
      "outputs": []
    },
    {
      "cell_type": "code",
      "source": [
        "model.evaluate(test_images, test_oh_labels)"
      ],
      "metadata": {
        "colab": {
          "base_uri": "https://localhost:8080/"
        },
        "id": "Cv2rozADJi4X",
        "outputId": "9f7f2503-2d06-4f0e-ac41-864488bda4ef"
      },
      "execution_count": null,
      "outputs": [
        {
          "output_type": "stream",
          "name": "stdout",
          "text": [
            "313/313 [==============================] - 2s 4ms/step - loss: 0.5195 - accuracy: 0.8474\n"
          ]
        },
        {
          "output_type": "execute_result",
          "data": {
            "text/plain": [
              "[0.5194981098175049, 0.8474000096321106]"
            ]
          },
          "metadata": {},
          "execution_count": 13
        }
      ]
    },
    {
      "cell_type": "code",
      "source": [
        "import matplotlib.pyplot as plt\n",
        "%matplotlib inline\n",
        "\n",
        "def show_history(history):\n",
        "    plt.figure(figsize=(8, 4))\n",
        "    plt.yticks(np.arange(0, 1, 0.05))\n",
        "    plt.xticks(np.arange(0, 30, 2))\n",
        "    plt.plot(history.history['accuracy'], label='train')\n",
        "    plt.plot(history.history['val_accuracy'], label='valid')\n",
        "    plt.legend()\n",
        "\n",
        "show_history(history)"
      ],
      "metadata": {
        "colab": {
          "base_uri": "https://localhost:8080/",
          "height": 368
        },
        "id": "dvs-8VSqJ6Dx",
        "outputId": "0a14ea6c-f495-4334-cebf-e5c63f34d394"
      },
      "execution_count": null,
      "outputs": [
        {
          "output_type": "display_data",
          "data": {
            "text/plain": [
              "<Figure size 800x400 with 1 Axes>"
            ],
            "image/png": "[encoded data removed]"
          },
          "metadata": {}
        }
      ]
    },
    {
      "cell_type": "markdown",
      "source": [
        "### 필터의 개수를 증가시켜 테스트\n",
        "* Conv Layer의 필터를 기존보다 2배씩 증가\n",
        "* 맨 마지막 Conv는 512로 대폭 증가"
      ],
      "metadata": {
        "id": "keut_r56J-au"
      }
    },
    {
      "cell_type": "code",
      "source": [
        "from tensorflow.keras.models import Sequential, Model\n",
        "from tensorflow.keras.layers import Input, Dense , Conv2D , Dropout , Flatten , Activation, MaxPooling2D , GlobalAveragePooling2D\n",
        "from tensorflow.keras.optimizers import Adam , RMSprop\n",
        "from tensorflow.keras.layers import BatchNormalization\n",
        "from tensorflow.keras.callbacks import ReduceLROnPlateau , EarlyStopping , ModelCheckpoint , LearningRateScheduler\n",
        "\n",
        "input_tensor = Input(shape=(IMAGE_SIZE, IMAGE_SIZE, 3))\n",
        "\n",
        "#x = Conv2D(filters=32, kernel_size=(5, 5), padding='valid', activation='relu')(input_tensor)\n",
        "# 원래는 필터수 32였지만 이번엔 두배인 64부터 시작\n",
        "x = Conv2D(filters=64, kernel_size=(3, 3), padding='same')(input_tensor)\n",
        "x = BatchNormalization()(x)\n",
        "x = Activation('relu')(x)\n",
        "\n",
        "x = Conv2D(filters=64, kernel_size=(3, 3), padding='same')(x)\n",
        "x = BatchNormalization()(x)\n",
        "x = Activation('relu')(x)\n",
        "x = MaxPooling2D(pool_size=(2, 2))(x)\n",
        "\n",
        "x = Conv2D(filters=128, kernel_size=3, padding='same')(x)\n",
        "x = BatchNormalization()(x)\n",
        "x = Activation('relu')(x)\n",
        "\n",
        "x = Conv2D(filters=128, kernel_size=3, padding='same')(x)\n",
        "x = Activation('relu')(x)\n",
        "x = Activation('relu')(x)\n",
        "x = MaxPooling2D(pool_size=2)(x)\n",
        "\n",
        "x = Conv2D(filters=256, kernel_size=3, padding='same')(x)\n",
        "x = BatchNormalization()(x)\n",
        "x = Activation('relu')(x)\n",
        "\n",
        "x = Conv2D(filters=256, kernel_size=3, padding='same')(x)\n",
        "x = BatchNormalization()(x)\n",
        "x = Activation('relu')(x)\n",
        "\n",
        "# 512 filters Conv layer 추가\n",
        "x = Conv2D(filters=512, kernel_size=3, padding='same')(x)\n",
        "x = BatchNormalization()(x)\n",
        "x = Activation('relu')(x)\n",
        "\n",
        "x = MaxPooling2D(pool_size=2)(x)\n",
        "\n",
        "# cifar10의 클래스가 10개 이므로 마지막 classification의 Dense layer units갯수는 10\n",
        "x = Flatten(name='flatten')(x)\n",
        "x = Dropout(rate=0.5)(x)\n",
        "x = Dense(300, activation='relu', name='fc1')(x)\n",
        "x = Dropout(rate=0.3)(x)\n",
        "output = Dense(10, activation='softmax', name='output')(x)\n",
        "\n",
        "model = Model(inputs=input_tensor, outputs=output)\n",
        "\n",
        "model.summary()"
      ],
      "metadata": {
        "id": "0FeCCwEMJ7Tc",
        "colab": {
          "base_uri": "https://localhost:8080/"
        },
        "outputId": "39abe8ab-9aff-434b-a2f0-a500c78ec55f"
      },
      "execution_count": null,
      "outputs": [
        {
          "output_type": "stream",
          "name": "stdout",
          "text": [
            "Model: \"model_4\"\n",
            "_________________________________________________________________\n",
            " Layer (type)                Output Shape              Param #   \n",
            "=================================================================\n",
            " input_5 (InputLayer)        [(None, 32, 32, 3)]       0         \n",
            "                                                                 \n",
            " conv2d_24 (Conv2D)          (None, 32, 32, 64)        1792      \n",
            "                                                                 \n",
            " batch_normalization_20 (Ba  (None, 32, 32, 64)        256       \n",
            " tchNormalization)                                               \n",
            "                                                                 \n",
            " activation_28 (Activation)  (None, 32, 32, 64)        0         \n",
            "                                                                 \n",
            " conv2d_25 (Conv2D)          (None, 32, 32, 64)        36928     \n",
            "                                                                 \n",
            " batch_normalization_21 (Ba  (None, 32, 32, 64)        256       \n",
            " tchNormalization)                                               \n",
            "                                                                 \n",
            " activation_29 (Activation)  (None, 32, 32, 64)        0         \n",
            "                                                                 \n",
            " max_pooling2d_12 (MaxPooli  (None, 16, 16, 64)        0         \n",
            " ng2D)                                                           \n",
            "                                                                 \n",
            " conv2d_26 (Conv2D)          (None, 16, 16, 128)       73856     \n",
            "                                                                 \n",
            " batch_normalization_22 (Ba  (None, 16, 16, 128)       512       \n",
            " tchNormalization)                                               \n",
            "                                                                 \n",
            " activation_30 (Activation)  (None, 16, 16, 128)       0         \n",
            "                                                                 \n",
            " conv2d_27 (Conv2D)          (None, 16, 16, 128)       147584    \n",
            "                                                                 \n",
            " activation_31 (Activation)  (None, 16, 16, 128)       0         \n",
            "                                                                 \n",
            " activation_32 (Activation)  (None, 16, 16, 128)       0         \n",
            "                                                                 \n",
            " max_pooling2d_13 (MaxPooli  (None, 8, 8, 128)         0         \n",
            " ng2D)                                                           \n",
            "                                                                 \n",
            " conv2d_28 (Conv2D)          (None, 8, 8, 256)         295168    \n",
            "                                                                 \n",
            " batch_normalization_23 (Ba  (None, 8, 8, 256)         1024      \n",
            " tchNormalization)                                               \n",
            "                                                                 \n",
            " activation_33 (Activation)  (None, 8, 8, 256)         0         \n",
            "                                                                 \n",
            " conv2d_29 (Conv2D)          (None, 8, 8, 256)         590080    \n",
            "                                                                 \n",
            " batch_normalization_24 (Ba  (None, 8, 8, 256)         1024      \n",
            " tchNormalization)                                               \n",
            "                                                                 \n",
            " activation_34 (Activation)  (None, 8, 8, 256)         0         \n",
            "                                                                 \n",
            " conv2d_30 (Conv2D)          (None, 8, 8, 512)         1180160   \n",
            "                                                                 \n",
            " batch_normalization_25 (Ba  (None, 8, 8, 512)         2048      \n",
            " tchNormalization)                                               \n",
            "                                                                 \n",
            " activation_35 (Activation)  (None, 8, 8, 512)         0         \n",
            "                                                                 \n",
            " max_pooling2d_14 (MaxPooli  (None, 4, 4, 512)         0         \n",
            " ng2D)                                                           \n",
            "                                                                 \n",
            " flatten (Flatten)           (None, 8192)              0         \n",
            "                                                                 \n",
            " dropout_8 (Dropout)         (None, 8192)              0         \n",
            "                                                                 \n",
            " fc1 (Dense)                 (None, 300)               2457900   \n",
            "                                                                 \n",
            " dropout_9 (Dropout)         (None, 300)               0         \n",
            "                                                                 \n",
            " output (Dense)              (None, 10)                3010      \n",
            "                                                                 \n",
            "=================================================================\n",
            "Total params: 4791598 (18.28 MB)\n",
            "Trainable params: 4789038 (18.27 MB)\n",
            "Non-trainable params: 2560 (10.00 KB)\n",
            "_________________________________________________________________\n"
          ]
        }
      ]
    },
    {
      "cell_type": "code",
      "source": [
        "model.compile(optimizer=Adam(learning_rate=0.001), loss='categorical_crossentropy', metrics=['accuracy'])\n",
        "\n",
        "# 5번 iteration내에 validation loss가 향상되지 않으면 learning rate을 기존 learning rate * 0.2로 줄임.\n",
        "rlr_cb = ReduceLROnPlateau(monitor='val_loss', factor=0.2, patience=5, mode='min', verbose=1)\n",
        "# 10번 iteration내에 validation loss가 향상되지 않으면 더 이상 학습하지 않고 종료\n",
        "ely_cb = EarlyStopping(monitor='val_loss', patience=10, mode='min', verbose=1)\n",
        "\n",
        "history = model.fit(x=tr_images, y=tr_oh_labels, batch_size=32, epochs=30, shuffle=True,\n",
        "                    validation_data=(val_images, val_oh_labels),\n",
        "                    callbacks=[rlr_cb, ely_cb])"
      ],
      "metadata": {
        "colab": {
          "base_uri": "https://localhost:8080/"
        },
        "id": "LVtFxogfoNfS",
        "outputId": "635b0227-a8df-4db4-83a9-d60d5b07532c"
      },
      "execution_count": null,
      "outputs": [
        {
          "output_type": "stream",
          "name": "stdout",
          "text": [
            "Epoch 1/30\n",
            "1329/1329 [==============================] - 29s 16ms/step - loss: 1.9078 - accuracy: 0.2764 - val_loss: 1.5431 - val_accuracy: 0.4267 - lr: 0.0010\n",
            "Epoch 2/30\n",
            "1329/1329 [==============================] - 22s 17ms/step - loss: 1.5037 - accuracy: 0.4123 - val_loss: 1.5942 - val_accuracy: 0.4195 - lr: 0.0010\n",
            "Epoch 3/30\n",
            "1329/1329 [==============================] - 19s 15ms/step - loss: 1.3353 - accuracy: 0.4873 - val_loss: 1.1065 - val_accuracy: 0.6135 - lr: 0.0010\n",
            "Epoch 4/30\n",
            "1329/1329 [==============================] - 19s 15ms/step - loss: 1.1961 - accuracy: 0.5500 - val_loss: 1.2942 - val_accuracy: 0.5489 - lr: 0.0010\n",
            "Epoch 5/30\n",
            "1329/1329 [==============================] - 20s 15ms/step - loss: 1.0836 - accuracy: 0.6000 - val_loss: 0.9754 - val_accuracy: 0.6604 - lr: 0.0010\n",
            "Epoch 6/30\n",
            "1329/1329 [==============================] - 20s 15ms/step - loss: 0.9810 - accuracy: 0.6407 - val_loss: 1.0134 - val_accuracy: 0.6713 - lr: 0.0010\n",
            "Epoch 7/30\n",
            "1329/1329 [==============================] - 19s 15ms/step - loss: 0.8783 - accuracy: 0.6823 - val_loss: 0.7309 - val_accuracy: 0.7585 - lr: 0.0010\n",
            "Epoch 8/30\n",
            "1329/1329 [==============================] - 19s 15ms/step - loss: 0.7659 - accuracy: 0.7316 - val_loss: 0.9321 - val_accuracy: 0.7129 - lr: 0.0010\n",
            "Epoch 9/30\n",
            "1329/1329 [==============================] - 19s 15ms/step - loss: 0.6312 - accuracy: 0.7868 - val_loss: 0.6822 - val_accuracy: 0.7893 - lr: 0.0010\n",
            "Epoch 10/30\n",
            "1329/1329 [==============================] - 20s 15ms/step - loss: 0.5145 - accuracy: 0.8291 - val_loss: 0.5828 - val_accuracy: 0.8135 - lr: 0.0010\n",
            "Epoch 11/30\n",
            "1329/1329 [==============================] - 19s 15ms/step - loss: 0.4342 - accuracy: 0.8558 - val_loss: 0.6604 - val_accuracy: 0.7904 - lr: 0.0010\n",
            "Epoch 12/30\n",
            "1329/1329 [==============================] - 19s 15ms/step - loss: 0.3727 - accuracy: 0.8769 - val_loss: 0.5977 - val_accuracy: 0.8195 - lr: 0.0010\n",
            "Epoch 13/30\n",
            "1329/1329 [==============================] - 19s 15ms/step - loss: 0.3218 - accuracy: 0.8948 - val_loss: 0.7533 - val_accuracy: 0.7729 - lr: 0.0010\n",
            "Epoch 14/30\n",
            "1329/1329 [==============================] - 19s 14ms/step - loss: 0.2846 - accuracy: 0.9073 - val_loss: 0.6981 - val_accuracy: 0.7900 - lr: 0.0010\n",
            "Epoch 15/30\n",
            "1326/1329 [============================>.] - ETA: 0s - loss: 0.2446 - accuracy: 0.9195\n",
            "Epoch 15: ReduceLROnPlateau reducing learning rate to 0.00020000000949949026.\n",
            "1329/1329 [==============================] - 20s 15ms/step - loss: 0.2448 - accuracy: 0.9193 - val_loss: 0.6588 - val_accuracy: 0.8311 - lr: 0.0010\n",
            "Epoch 16/30\n",
            "1329/1329 [==============================] - 22s 16ms/step - loss: 0.1209 - accuracy: 0.9616 - val_loss: 0.5756 - val_accuracy: 0.8712 - lr: 2.0000e-04\n",
            "Epoch 17/30\n",
            "1329/1329 [==============================] - 19s 14ms/step - loss: 0.0812 - accuracy: 0.9730 - val_loss: 0.6257 - val_accuracy: 0.8684 - lr: 2.0000e-04\n",
            "Epoch 18/30\n",
            "1329/1329 [==============================] - 19s 15ms/step - loss: 0.0638 - accuracy: 0.9784 - val_loss: 0.6707 - val_accuracy: 0.8709 - lr: 2.0000e-04\n",
            "Epoch 19/30\n",
            "1329/1329 [==============================] - 20s 15ms/step - loss: 0.0519 - accuracy: 0.9826 - val_loss: 0.7269 - val_accuracy: 0.8684 - lr: 2.0000e-04\n",
            "Epoch 20/30\n",
            "1329/1329 [==============================] - 20s 15ms/step - loss: 0.0403 - accuracy: 0.9866 - val_loss: 0.7648 - val_accuracy: 0.8691 - lr: 2.0000e-04\n",
            "Epoch 21/30\n",
            "1327/1329 [============================>.] - ETA: 0s - loss: 0.0350 - accuracy: 0.9882\n",
            "Epoch 21: ReduceLROnPlateau reducing learning rate to 4.0000001899898055e-05.\n",
            "1329/1329 [==============================] - 21s 16ms/step - loss: 0.0350 - accuracy: 0.9883 - val_loss: 0.8408 - val_accuracy: 0.8640 - lr: 2.0000e-04\n",
            "Epoch 22/30\n",
            "1329/1329 [==============================] - 19s 15ms/step - loss: 0.0230 - accuracy: 0.9928 - val_loss: 0.8086 - val_accuracy: 0.8711 - lr: 4.0000e-05\n",
            "Epoch 23/30\n",
            "1329/1329 [==============================] - 20s 15ms/step - loss: 0.0178 - accuracy: 0.9941 - val_loss: 0.8431 - val_accuracy: 0.8719 - lr: 4.0000e-05\n",
            "Epoch 24/30\n",
            "1329/1329 [==============================] - 20s 15ms/step - loss: 0.0153 - accuracy: 0.9952 - val_loss: 0.8608 - val_accuracy: 0.8727 - lr: 4.0000e-05\n",
            "Epoch 25/30\n",
            "1329/1329 [==============================] - 20s 15ms/step - loss: 0.0135 - accuracy: 0.9958 - val_loss: 0.9016 - val_accuracy: 0.8727 - lr: 4.0000e-05\n",
            "Epoch 26/30\n",
            "1328/1329 [============================>.] - ETA: 0s - loss: 0.0132 - accuracy: 0.9958\n",
            "Epoch 26: ReduceLROnPlateau reducing learning rate to 8.000000525498762e-06.\n",
            "1329/1329 [==============================] - 20s 15ms/step - loss: 0.0134 - accuracy: 0.9958 - val_loss: 0.8994 - val_accuracy: 0.8724 - lr: 4.0000e-05\n",
            "Epoch 26: early stopping\n"
          ]
        }
      ]
    },
    {
      "cell_type": "code",
      "source": [
        "# 테스트하기\n",
        "model.evaluate(test_images, test_oh_labels)\n",
        "show_history(history)"
      ],
      "metadata": {
        "colab": {
          "base_uri": "https://localhost:8080/",
          "height": 386
        },
        "id": "7i6s5Oy7pDTI",
        "outputId": "10dfa8f8-9227-4633-d368-11932887d636"
      },
      "execution_count": null,
      "outputs": [
        {
          "output_type": "stream",
          "name": "stdout",
          "text": [
            "313/313 [==============================] - 2s 6ms/step - loss: 0.9329 - accuracy: 0.8685\n"
          ]
        },
        {
          "output_type": "display_data",
          "data": {
            "text/plain": [
              "<Figure size 800x400 with 1 Axes>"
            ],
            "image/png": "[encoded data removed]"
          },
          "metadata": {}
        }
      ]
    },
    {
      "cell_type": "markdown",
      "source": [
        "### 맨 마지막 Conv + MaxPooling 대신 맨 마지막 Conv의 Strides를 2로 하여 Feature map 조정\n",
        "- `stride=2`, `padding=same`일때는 원본사이즈 동일한 피처맵 내는 것이 목적이 아님\n",
        "- stride=2이고 kernel=(3x3)일때, 최우측 열에는 window가 접근을 못할 수 있는데, 이때 `padding=same`이 해결해준다"
      ],
      "metadata": {
        "id": "wiv9zlIYqfHx"
      }
    },
    {
      "cell_type": "code",
      "source": [
        "from tensorflow.keras.models import Sequential, Model\n",
        "from tensorflow.keras.layers import Input, Dense , Conv2D , Dropout , Flatten , Activation, MaxPooling2D , GlobalAveragePooling2D\n",
        "from tensorflow.keras.optimizers import Adam , RMSprop\n",
        "from tensorflow.keras.layers import BatchNormalization\n",
        "from tensorflow.keras.callbacks import ReduceLROnPlateau , EarlyStopping , ModelCheckpoint , LearningRateScheduler\n",
        "\n",
        "input_tensor = Input(shape=(IMAGE_SIZE, IMAGE_SIZE, 3))\n",
        "\n",
        "x = Conv2D(filters=64, kernel_size=(3, 3), padding='same')(input_tensor)\n",
        "x = BatchNormalization()(x)\n",
        "x = Activation('relu')(x)\n",
        "\n",
        "x = Conv2D(filters=64, kernel_size=(3, 3), padding='same')(x)\n",
        "x = BatchNormalization()(x)\n",
        "x = Activation('relu')(x)\n",
        "x = MaxPooling2D(pool_size=(2, 2))(x)\n",
        "\n",
        "x = Conv2D(filters=128, kernel_size=3, padding='same')(x)\n",
        "x = BatchNormalization()(x)\n",
        "x = Activation('relu')(x)\n",
        "\n",
        "x = Conv2D(filters=128, kernel_size=3, padding='same')(x)\n",
        "x = Activation('relu')(x)\n",
        "x = Activation('relu')(x)\n",
        "x = MaxPooling2D(pool_size=2)(x)\n",
        "\n",
        "x = Conv2D(filters=256, kernel_size=3, padding='same')(x)\n",
        "x = BatchNormalization()(x)\n",
        "x = Activation('relu')(x)\n",
        "\n",
        "x = Conv2D(filters=256, kernel_size=3, padding='same')(x)\n",
        "x = BatchNormalization()(x)\n",
        "x = Activation('relu')(x)\n",
        "\n",
        "# 512 filters Conv layer 추가하되 이후 MaxPooling을 적용하지 않고 strides는 2로 변경하여 출력 feature map 크기 조정\n",
        "x = Conv2D(filters=512, kernel_size=3, strides=2, padding='same')(x)\n",
        "x = BatchNormalization()(x)\n",
        "x = Activation('relu')(x)\n",
        "\n",
        "\n",
        "# cifar10의 클래스가 10개 이므로 마지막 classification의 Dense layer units갯수는 10\n",
        "x = Flatten(name='flatten')(x)\n",
        "x = Dropout(rate=0.5)(x)\n",
        "x = Dense(300, activation='relu', name='fc1')(x)\n",
        "x = Dropout(rate=0.3)(x)\n",
        "output = Dense(10, activation='softmax', name='output')(x)\n",
        "\n",
        "model = Model(inputs=input_tensor, outputs=output)\n",
        "\n",
        "model.summary()"
      ],
      "metadata": {
        "colab": {
          "base_uri": "https://localhost:8080/"
        },
        "id": "nvTjzUgUqaeq",
        "outputId": "bfd13659-4133-4e14-e458-6a51aab5bbb6"
      },
      "execution_count": null,
      "outputs": [
        {
          "output_type": "stream",
          "name": "stdout",
          "text": [
            "Model: \"model_5\"\n",
            "_________________________________________________________________\n",
            " Layer (type)                Output Shape              Param #   \n",
            "=================================================================\n",
            " input_6 (InputLayer)        [(None, 32, 32, 3)]       0         \n",
            "                                                                 \n",
            " conv2d_31 (Conv2D)          (None, 32, 32, 64)        1792      \n",
            "                                                                 \n",
            " batch_normalization_26 (Ba  (None, 32, 32, 64)        256       \n",
            " tchNormalization)                                               \n",
            "                                                                 \n",
            " activation_36 (Activation)  (None, 32, 32, 64)        0         \n",
            "                                                                 \n",
            " conv2d_32 (Conv2D)          (None, 32, 32, 64)        36928     \n",
            "                                                                 \n",
            " batch_normalization_27 (Ba  (None, 32, 32, 64)        256       \n",
            " tchNormalization)                                               \n",
            "                                                                 \n",
            " activation_37 (Activation)  (None, 32, 32, 64)        0         \n",
            "                                                                 \n",
            " max_pooling2d_15 (MaxPooli  (None, 16, 16, 64)        0         \n",
            " ng2D)                                                           \n",
            "                                                                 \n",
            " conv2d_33 (Conv2D)          (None, 16, 16, 128)       73856     \n",
            "                                                                 \n",
            " batch_normalization_28 (Ba  (None, 16, 16, 128)       512       \n",
            " tchNormalization)                                               \n",
            "                                                                 \n",
            " activation_38 (Activation)  (None, 16, 16, 128)       0         \n",
            "                                                                 \n",
            " conv2d_34 (Conv2D)          (None, 16, 16, 128)       147584    \n",
            "                                                                 \n",
            " activation_39 (Activation)  (None, 16, 16, 128)       0         \n",
            "                                                                 \n",
            " activation_40 (Activation)  (None, 16, 16, 128)       0         \n",
            "                                                                 \n",
            " max_pooling2d_16 (MaxPooli  (None, 8, 8, 128)         0         \n",
            " ng2D)                                                           \n",
            "                                                                 \n",
            " conv2d_35 (Conv2D)          (None, 8, 8, 256)         295168    \n",
            "                                                                 \n",
            " batch_normalization_29 (Ba  (None, 8, 8, 256)         1024      \n",
            " tchNormalization)                                               \n",
            "                                                                 \n",
            " activation_41 (Activation)  (None, 8, 8, 256)         0         \n",
            "                                                                 \n",
            " conv2d_36 (Conv2D)          (None, 8, 8, 256)         590080    \n",
            "                                                                 \n",
            " batch_normalization_30 (Ba  (None, 8, 8, 256)         1024      \n",
            " tchNormalization)                                               \n",
            "                                                                 \n",
            " activation_42 (Activation)  (None, 8, 8, 256)         0         \n",
            "                                                                 \n",
            " conv2d_37 (Conv2D)          (None, 4, 4, 512)         1180160   \n",
            "                                                                 \n",
            " batch_normalization_31 (Ba  (None, 4, 4, 512)         2048      \n",
            " tchNormalization)                                               \n",
            "                                                                 \n",
            " activation_43 (Activation)  (None, 4, 4, 512)         0         \n",
            "                                                                 \n",
            " flatten (Flatten)           (None, 8192)              0         \n",
            "                                                                 \n",
            " dropout_10 (Dropout)        (None, 8192)              0         \n",
            "                                                                 \n",
            " fc1 (Dense)                 (None, 300)               2457900   \n",
            "                                                                 \n",
            " dropout_11 (Dropout)        (None, 300)               0         \n",
            "                                                                 \n",
            " output (Dense)              (None, 10)                3010      \n",
            "                                                                 \n",
            "=================================================================\n",
            "Total params: 4791598 (18.28 MB)\n",
            "Trainable params: 4789038 (18.27 MB)\n",
            "Non-trainable params: 2560 (10.00 KB)\n",
            "_________________________________________________________________\n"
          ]
        }
      ]
    },
    {
      "cell_type": "code",
      "source": [
        "model.compile(optimizer=Adam(lr=0.001), loss='categorical_crossentropy', metrics=['accuracy'])\n",
        "\n",
        "# 5번 iteration내에 validation loss가 향상되지 않으면 learning rate을 기존 learning rate * 0.2로 줄임.\n",
        "rlr_cb = ReduceLROnPlateau(monitor='val_loss', factor=0.2, patience=5, mode='min', verbose=1)\n",
        "# 10번 iteration내에 validation loss가 향상되지 않으면 더 이상 학습하지 않고 종료\n",
        "ely_cb = EarlyStopping(monitor='val_loss', patience=10, mode='min', verbose=1)\n",
        "\n",
        "\n",
        "history = model.fit(x=tr_images, y=tr_oh_labels, batch_size=32, epochs=30, shuffle=True,\n",
        "                    validation_data=(val_images, val_oh_labels),\n",
        "                    callbacks=[rlr_cb, ely_cb] )"
      ],
      "metadata": {
        "colab": {
          "base_uri": "https://localhost:8080/"
        },
        "id": "56jrlgjcrF3s",
        "outputId": "c16a2eac-b95c-4e03-99a0-27c72fef0984"
      },
      "execution_count": null,
      "outputs": [
        {
          "output_type": "stream",
          "name": "stderr",
          "text": [
            "WARNING:absl:`lr` is deprecated in Keras optimizer, please use `learning_rate` or use the legacy optimizer, e.g.,tf.keras.optimizers.legacy.Adam.\n"
          ]
        },
        {
          "output_type": "stream",
          "name": "stdout",
          "text": [
            "Epoch 1/30\n",
            "1329/1329 [==============================] - 25s 15ms/step - loss: 1.5926 - accuracy: 0.4242 - val_loss: 1.4313 - val_accuracy: 0.5149 - lr: 0.0010\n",
            "Epoch 2/30\n",
            "1329/1329 [==============================] - 19s 15ms/step - loss: 1.1535 - accuracy: 0.5918 - val_loss: 1.2481 - val_accuracy: 0.5835 - lr: 0.0010\n",
            "Epoch 3/30\n",
            "1329/1329 [==============================] - 19s 15ms/step - loss: 0.9484 - accuracy: 0.6699 - val_loss: 0.9632 - val_accuracy: 0.6740 - lr: 0.0010\n",
            "Epoch 4/30\n",
            "1329/1329 [==============================] - 19s 14ms/step - loss: 0.8319 - accuracy: 0.7141 - val_loss: 1.0351 - val_accuracy: 0.6696 - lr: 0.0010\n",
            "Epoch 5/30\n",
            "1329/1329 [==============================] - 19s 14ms/step - loss: 0.7290 - accuracy: 0.7560 - val_loss: 0.8500 - val_accuracy: 0.7159 - lr: 0.0010\n",
            "Epoch 6/30\n",
            "1329/1329 [==============================] - 19s 14ms/step - loss: 0.6268 - accuracy: 0.7943 - val_loss: 0.6166 - val_accuracy: 0.7925 - lr: 0.0010\n",
            "Epoch 7/30\n",
            "1329/1329 [==============================] - 19s 14ms/step - loss: 0.5506 - accuracy: 0.8187 - val_loss: 0.6460 - val_accuracy: 0.7861 - lr: 0.0010\n",
            "Epoch 8/30\n",
            "1329/1329 [==============================] - 19s 14ms/step - loss: 0.4660 - accuracy: 0.8455 - val_loss: 0.6075 - val_accuracy: 0.8013 - lr: 0.0010\n",
            "Epoch 9/30\n",
            "1329/1329 [==============================] - 19s 14ms/step - loss: 0.4062 - accuracy: 0.8650 - val_loss: 0.9648 - val_accuracy: 0.7447 - lr: 0.0010\n",
            "Epoch 10/30\n",
            "1329/1329 [==============================] - 19s 14ms/step - loss: 0.3458 - accuracy: 0.8868 - val_loss: 0.6402 - val_accuracy: 0.7980 - lr: 0.0010\n",
            "Epoch 11/30\n",
            "1329/1329 [==============================] - 19s 14ms/step - loss: 0.2987 - accuracy: 0.9013 - val_loss: 0.6162 - val_accuracy: 0.8233 - lr: 0.0010\n",
            "Epoch 12/30\n",
            "1329/1329 [==============================] - 19s 15ms/step - loss: 0.2569 - accuracy: 0.9159 - val_loss: 0.6840 - val_accuracy: 0.8149 - lr: 0.0010\n",
            "Epoch 13/30\n",
            "1326/1329 [============================>.] - ETA: 0s - loss: 0.2205 - accuracy: 0.9261\n",
            "Epoch 13: ReduceLROnPlateau reducing learning rate to 0.00020000000949949026.\n",
            "1329/1329 [==============================] - 19s 14ms/step - loss: 0.2208 - accuracy: 0.9260 - val_loss: 0.7933 - val_accuracy: 0.7799 - lr: 0.0010\n",
            "Epoch 14/30\n",
            "1329/1329 [==============================] - 19s 15ms/step - loss: 0.1090 - accuracy: 0.9639 - val_loss: 0.5892 - val_accuracy: 0.8604 - lr: 2.0000e-04\n",
            "Epoch 15/30\n",
            "1329/1329 [==============================] - 19s 14ms/step - loss: 0.0689 - accuracy: 0.9772 - val_loss: 0.6130 - val_accuracy: 0.8671 - lr: 2.0000e-04\n",
            "Epoch 16/30\n",
            "1329/1329 [==============================] - 19s 14ms/step - loss: 0.0538 - accuracy: 0.9822 - val_loss: 0.6301 - val_accuracy: 0.8680 - lr: 2.0000e-04\n",
            "Epoch 17/30\n",
            "1329/1329 [==============================] - 19s 14ms/step - loss: 0.0411 - accuracy: 0.9859 - val_loss: 0.7099 - val_accuracy: 0.8671 - lr: 2.0000e-04\n",
            "Epoch 18/30\n",
            "1329/1329 [==============================] - 19s 14ms/step - loss: 0.0343 - accuracy: 0.9886 - val_loss: 0.7515 - val_accuracy: 0.8681 - lr: 2.0000e-04\n",
            "Epoch 19/30\n",
            "1328/1329 [============================>.] - ETA: 0s - loss: 0.0285 - accuracy: 0.9904\n",
            "Epoch 19: ReduceLROnPlateau reducing learning rate to 4.0000001899898055e-05.\n",
            "1329/1329 [==============================] - 19s 14ms/step - loss: 0.0285 - accuracy: 0.9904 - val_loss: 0.8178 - val_accuracy: 0.8625 - lr: 2.0000e-04\n",
            "Epoch 20/30\n",
            "1329/1329 [==============================] - 19s 15ms/step - loss: 0.0180 - accuracy: 0.9941 - val_loss: 0.7847 - val_accuracy: 0.8704 - lr: 4.0000e-05\n",
            "Epoch 21/30\n",
            "1329/1329 [==============================] - 19s 14ms/step - loss: 0.0147 - accuracy: 0.9952 - val_loss: 0.7974 - val_accuracy: 0.8708 - lr: 4.0000e-05\n",
            "Epoch 22/30\n",
            "1329/1329 [==============================] - 19s 14ms/step - loss: 0.0120 - accuracy: 0.9963 - val_loss: 0.7963 - val_accuracy: 0.8727 - lr: 4.0000e-05\n",
            "Epoch 23/30\n",
            "1329/1329 [==============================] - 19s 15ms/step - loss: 0.0114 - accuracy: 0.9965 - val_loss: 0.8366 - val_accuracy: 0.8732 - lr: 4.0000e-05\n",
            "Epoch 24/30\n",
            "1325/1329 [============================>.] - ETA: 0s - loss: 0.0104 - accuracy: 0.9968\n",
            "Epoch 24: ReduceLROnPlateau reducing learning rate to 8.000000525498762e-06.\n",
            "1329/1329 [==============================] - 19s 14ms/step - loss: 0.0103 - accuracy: 0.9968 - val_loss: 0.8591 - val_accuracy: 0.8715 - lr: 4.0000e-05\n",
            "Epoch 24: early stopping\n"
          ]
        }
      ]
    },
    {
      "cell_type": "code",
      "source": [
        "model.evaluate(test_images, test_oh_labels)\n",
        "show_history(history)"
      ],
      "metadata": {
        "colab": {
          "base_uri": "https://localhost:8080/",
          "height": 386
        },
        "id": "bNClH-hRtjPL",
        "outputId": "cc1ad3e9-9e49-4bf6-89ab-0a16f61f7db9"
      },
      "execution_count": null,
      "outputs": [
        {
          "output_type": "stream",
          "name": "stdout",
          "text": [
            "313/313 [==============================] - 2s 6ms/step - loss: 0.8794 - accuracy: 0.8681\n"
          ]
        },
        {
          "output_type": "display_data",
          "data": {
            "text/plain": [
              "<Figure size 800x400 with 1 Axes>"
            ],
            "image/png": "[encoded data removed]"
          },
          "metadata": {}
        }
      ]
    },
    {
      "cell_type": "markdown",
      "source": [
        "### Global Average Pooling의 적용\n",
        "* **`Global Average Pooling`**은 피처맵의 가로x세로의 특정 영역을 Sub sampling 않고, **채널별로 평균 값을 추출**\n",
        "* **충분히 Feature map의 채널수가 많을 경우** 이를 적용. 채널수가 적다면 Flatten이 유리.\n",
        "* 채널수 많을 시 Flatten-> Classification Dense Layer로 이어지면서 **많은 파라미터들로 인한 오버피팅 유발 가능성 증대 및 학습 시간 늘어남.**\n",
        "* 맨 마지막 Feature Map의 채널 수가 충분히 크다면 **`GlobalAveragePooling2D`**를 적용하여 Flatten을 제거하는데 더 유리 할 수 있음."
      ],
      "metadata": {
        "id": "PBD-RKoW5MII"
      }
    },
    {
      "cell_type": "code",
      "source": [
        "from tensorflow.keras.models import Sequential, Model\n",
        "from tensorflow.keras.layers import Input, Dense , Conv2D , Dropout , Flatten , Activation, MaxPooling2D , GlobalAveragePooling2D\n",
        "from tensorflow.keras.optimizers import Adam , RMSprop\n",
        "from tensorflow.keras.layers import BatchNormalization\n",
        "from tensorflow.keras.callbacks import ReduceLROnPlateau , EarlyStopping , ModelCheckpoint , LearningRateScheduler\n",
        "\n",
        "input_tensor = Input(shape=(IMAGE_SIZE, IMAGE_SIZE, 3))\n",
        "\n",
        "#x = Conv2D(filters=32, kernel_size=(5, 5), padding='valid', activation='relu')(input_tensor)\n",
        "x = Conv2D(filters=64, kernel_size=(3, 3), padding='same')(input_tensor)\n",
        "x = BatchNormalization()(x)\n",
        "x = Activation('relu')(x)\n",
        "\n",
        "x = Conv2D(filters=64, kernel_size=(3, 3), padding='same')(x)\n",
        "x = BatchNormalization()(x)\n",
        "x = Activation('relu')(x)\n",
        "x = MaxPooling2D(pool_size=(2, 2))(x)\n",
        "\n",
        "x = Conv2D(filters=128, kernel_size=3, padding='same')(x)\n",
        "x = BatchNormalization()(x)\n",
        "x = Activation('relu')(x)\n",
        "\n",
        "x = Conv2D(filters=128, kernel_size=3, padding='same')(x)\n",
        "x = Activation('relu')(x)\n",
        "x = Activation('relu')(x)\n",
        "x = MaxPooling2D(pool_size=2)(x)\n",
        "\n",
        "x = Conv2D(filters=256, kernel_size=3, padding='same')(x)\n",
        "x = BatchNormalization()(x)\n",
        "x = Activation('relu')(x)\n",
        "\n",
        "x = Conv2D(filters=256, kernel_size=3, padding='same')(x)\n",
        "x = BatchNormalization()(x)\n",
        "x = Activation('relu')(x)\n",
        "\n",
        "x = Conv2D(filters=512, kernel_size=3, strides=2, padding='same')(x)\n",
        "x = BatchNormalization()(x)\n",
        "x = Activation('relu')(x)\n",
        "\n",
        "# Flatten 대신 Global AveragePooling 을 적용.\n",
        "x = GlobalAveragePooling2D()(x)\n",
        "x = Dropout(rate=0.5)(x)\n",
        "x = Dense(50, activation='relu', name='fc1')(x)\n",
        "x = Dropout(rate=0.2)(x)\n",
        "output = Dense(10, activation='softmax', name='output')(x)\n",
        "\n",
        "model = Model(inputs=input_tensor, outputs=output)\n",
        "\n",
        "model.summary()"
      ],
      "metadata": {
        "id": "DuU-0D1AtnAv",
        "colab": {
          "base_uri": "https://localhost:8080/"
        },
        "outputId": "51ff01d5-5c0e-4e27-88bc-7ee4e4f9efc9"
      },
      "execution_count": null,
      "outputs": [
        {
          "output_type": "stream",
          "name": "stdout",
          "text": [
            "Model: \"model_6\"\n",
            "_________________________________________________________________\n",
            " Layer (type)                Output Shape              Param #   \n",
            "=================================================================\n",
            " input_7 (InputLayer)        [(None, 32, 32, 3)]       0         \n",
            "                                                                 \n",
            " conv2d_38 (Conv2D)          (None, 32, 32, 64)        1792      \n",
            "                                                                 \n",
            " batch_normalization_32 (Ba  (None, 32, 32, 64)        256       \n",
            " tchNormalization)                                               \n",
            "                                                                 \n",
            " activation_44 (Activation)  (None, 32, 32, 64)        0         \n",
            "                                                                 \n",
            " conv2d_39 (Conv2D)          (None, 32, 32, 64)        36928     \n",
            "                                                                 \n",
            " batch_normalization_33 (Ba  (None, 32, 32, 64)        256       \n",
            " tchNormalization)                                               \n",
            "                                                                 \n",
            " activation_45 (Activation)  (None, 32, 32, 64)        0         \n",
            "                                                                 \n",
            " max_pooling2d_17 (MaxPooli  (None, 16, 16, 64)        0         \n",
            " ng2D)                                                           \n",
            "                                                                 \n",
            " conv2d_40 (Conv2D)          (None, 16, 16, 128)       73856     \n",
            "                                                                 \n",
            " batch_normalization_34 (Ba  (None, 16, 16, 128)       512       \n",
            " tchNormalization)                                               \n",
            "                                                                 \n",
            " activation_46 (Activation)  (None, 16, 16, 128)       0         \n",
            "                                                                 \n",
            " conv2d_41 (Conv2D)          (None, 16, 16, 128)       147584    \n",
            "                                                                 \n",
            " activation_47 (Activation)  (None, 16, 16, 128)       0         \n",
            "                                                                 \n",
            " activation_48 (Activation)  (None, 16, 16, 128)       0         \n",
            "                                                                 \n",
            " max_pooling2d_18 (MaxPooli  (None, 8, 8, 128)         0         \n",
            " ng2D)                                                           \n",
            "                                                                 \n",
            " conv2d_42 (Conv2D)          (None, 8, 8, 256)         295168    \n",
            "                                                                 \n",
            " batch_normalization_35 (Ba  (None, 8, 8, 256)         1024      \n",
            " tchNormalization)                                               \n",
            "                                                                 \n",
            " activation_49 (Activation)  (None, 8, 8, 256)         0         \n",
            "                                                                 \n",
            " conv2d_43 (Conv2D)          (None, 8, 8, 256)         590080    \n",
            "                                                                 \n",
            " batch_normalization_36 (Ba  (None, 8, 8, 256)         1024      \n",
            " tchNormalization)                                               \n",
            "                                                                 \n",
            " activation_50 (Activation)  (None, 8, 8, 256)         0         \n",
            "                                                                 \n",
            " conv2d_44 (Conv2D)          (None, 4, 4, 512)         1180160   \n",
            "                                                                 \n",
            " batch_normalization_37 (Ba  (None, 4, 4, 512)         2048      \n",
            " tchNormalization)                                               \n",
            "                                                                 \n",
            " activation_51 (Activation)  (None, 4, 4, 512)         0         \n",
            "                                                                 \n",
            " global_average_pooling2d (  (None, 512)               0         \n",
            " GlobalAveragePooling2D)                                         \n",
            "                                                                 \n",
            " dropout_12 (Dropout)        (None, 512)               0         \n",
            "                                                                 \n",
            " fc1 (Dense)                 (None, 50)                25650     \n",
            "                                                                 \n",
            " dropout_13 (Dropout)        (None, 50)                0         \n",
            "                                                                 \n",
            " output (Dense)              (None, 10)                510       \n",
            "                                                                 \n",
            "=================================================================\n",
            "Total params: 2356848 (8.99 MB)\n",
            "Trainable params: 2354288 (8.98 MB)\n",
            "Non-trainable params: 2560 (10.00 KB)\n",
            "_________________________________________________________________\n"
          ]
        }
      ]
    },
    {
      "cell_type": "code",
      "source": [
        "from tensorflow.keras.callbacks import ReduceLROnPlateau\n",
        "from tensorflow.keras.callbacks import EarlyStopping\n",
        "\n",
        "# 컴파일\n",
        "model.compile(optimizer=Adam(lr=0.001), loss='categorical_crossentropy', metrics=['accuracy'])\n",
        "\n",
        "# 5번 iteration내에 validation loss가 향상되지 않으면 learning rate을 기존 learning rate * 0.2로 줄임.\n",
        "rlr_cb = ReduceLROnPlateau(monitor='val_loss', factor=0.2, patience=5, mode='min', verbose=1)\n",
        "# 10번 iteration내에 validation loss가 향상되지 않으면 더 이상 학습하지 않고 종료\n",
        "ely_cb = EarlyStopping(monitor='val_loss', patience=10, mode='min', verbose=1)\n",
        "\n",
        "# 학습\n",
        "history = model.fit(x=tr_images, y=tr_oh_labels, batch_size=32, epochs=30, shuffle=True,\n",
        "                    validation_data=(val_images, val_oh_labels),\n",
        "                    callbacks=[rlr_cb, ely_cb] )"
      ],
      "metadata": {
        "colab": {
          "base_uri": "https://localhost:8080/"
        },
        "id": "Mw9ofXz759-B",
        "outputId": "d1e3bc6d-2c65-4819-8054-7f2ac9d8498d"
      },
      "execution_count": null,
      "outputs": [
        {
          "output_type": "stream",
          "name": "stderr",
          "text": [
            "WARNING:absl:`lr` is deprecated in Keras optimizer, please use `learning_rate` or use the legacy optimizer, e.g.,tf.keras.optimizers.legacy.Adam.\n"
          ]
        },
        {
          "output_type": "stream",
          "name": "stdout",
          "text": [
            "Epoch 1/30\n",
            "1329/1329 [==============================] - 24s 15ms/step - loss: 1.4867 - accuracy: 0.4616 - val_loss: 2.2677 - val_accuracy: 0.3952 - lr: 0.0010\n",
            "Epoch 2/30\n",
            "1329/1329 [==============================] - 19s 14ms/step - loss: 1.0496 - accuracy: 0.6323 - val_loss: 0.9979 - val_accuracy: 0.6533 - lr: 0.0010\n",
            "Epoch 3/30\n",
            "1329/1329 [==============================] - 18s 14ms/step - loss: 0.8541 - accuracy: 0.7050 - val_loss: 0.9670 - val_accuracy: 0.6777 - lr: 0.0010\n",
            "Epoch 4/30\n",
            "1329/1329 [==============================] - 18s 14ms/step - loss: 0.7220 - accuracy: 0.7564 - val_loss: 0.6987 - val_accuracy: 0.7585 - lr: 0.0010\n",
            "Epoch 5/30\n",
            "1329/1329 [==============================] - 19s 14ms/step - loss: 0.6134 - accuracy: 0.7946 - val_loss: 0.6080 - val_accuracy: 0.7988 - lr: 0.0010\n",
            "Epoch 6/30\n",
            "1329/1329 [==============================] - 18s 14ms/step - loss: 0.5242 - accuracy: 0.8262 - val_loss: 0.8021 - val_accuracy: 0.7471 - lr: 0.0010\n",
            "Epoch 7/30\n",
            "1329/1329 [==============================] - 19s 14ms/step - loss: 0.4553 - accuracy: 0.8488 - val_loss: 0.6506 - val_accuracy: 0.7908 - lr: 0.0010\n",
            "Epoch 8/30\n",
            "1329/1329 [==============================] - 18s 14ms/step - loss: 0.3899 - accuracy: 0.8700 - val_loss: 0.6010 - val_accuracy: 0.8107 - lr: 0.0010\n",
            "Epoch 9/30\n",
            "1329/1329 [==============================] - 18s 14ms/step - loss: 0.3313 - accuracy: 0.8897 - val_loss: 0.6149 - val_accuracy: 0.7960 - lr: 0.0010\n",
            "Epoch 10/30\n",
            "1329/1329 [==============================] - 19s 14ms/step - loss: 0.2816 - accuracy: 0.9074 - val_loss: 0.5374 - val_accuracy: 0.8233 - lr: 0.0010\n",
            "Epoch 11/30\n",
            "1329/1329 [==============================] - 19s 14ms/step - loss: 0.2368 - accuracy: 0.9219 - val_loss: 0.7562 - val_accuracy: 0.7868 - lr: 0.0010\n",
            "Epoch 12/30\n",
            "1329/1329 [==============================] - 18s 14ms/step - loss: 0.2068 - accuracy: 0.9301 - val_loss: 0.6548 - val_accuracy: 0.8243 - lr: 0.0010\n",
            "Epoch 13/30\n",
            "1329/1329 [==============================] - 19s 14ms/step - loss: 0.1749 - accuracy: 0.9412 - val_loss: 0.6705 - val_accuracy: 0.8204 - lr: 0.0010\n",
            "Epoch 14/30\n",
            "1329/1329 [==============================] - 18s 14ms/step - loss: 0.1504 - accuracy: 0.9495 - val_loss: 0.6339 - val_accuracy: 0.8245 - lr: 0.0010\n",
            "Epoch 15/30\n",
            "1326/1329 [============================>.] - ETA: 0s - loss: 0.1353 - accuracy: 0.9556\n",
            "Epoch 15: ReduceLROnPlateau reducing learning rate to 0.00020000000949949026.\n",
            "1329/1329 [==============================] - 18s 14ms/step - loss: 0.1356 - accuracy: 0.9555 - val_loss: 0.6136 - val_accuracy: 0.8375 - lr: 0.0010\n",
            "Epoch 16/30\n",
            "1329/1329 [==============================] - 18s 14ms/step - loss: 0.0521 - accuracy: 0.9842 - val_loss: 0.5599 - val_accuracy: 0.8719 - lr: 2.0000e-04\n",
            "Epoch 17/30\n",
            "1329/1329 [==============================] - 19s 14ms/step - loss: 0.0311 - accuracy: 0.9905 - val_loss: 0.5953 - val_accuracy: 0.8703 - lr: 2.0000e-04\n",
            "Epoch 18/30\n",
            "1329/1329 [==============================] - 18s 14ms/step - loss: 0.0233 - accuracy: 0.9930 - val_loss: 0.6388 - val_accuracy: 0.8729 - lr: 2.0000e-04\n",
            "Epoch 19/30\n",
            "1329/1329 [==============================] - 19s 14ms/step - loss: 0.0198 - accuracy: 0.9938 - val_loss: 0.8163 - val_accuracy: 0.8601 - lr: 2.0000e-04\n",
            "Epoch 20/30\n",
            "1325/1329 [============================>.] - ETA: 0s - loss: 0.0166 - accuracy: 0.9949\n",
            "Epoch 20: ReduceLROnPlateau reducing learning rate to 4.0000001899898055e-05.\n",
            "1329/1329 [==============================] - 18s 14ms/step - loss: 0.0166 - accuracy: 0.9949 - val_loss: 0.7281 - val_accuracy: 0.8680 - lr: 2.0000e-04\n",
            "Epoch 20: early stopping\n"
          ]
        }
      ]
    },
    {
      "cell_type": "code",
      "source": [
        "model.evaluate(test_images, test_oh_labels)\n",
        "show_history(history)"
      ],
      "metadata": {
        "colab": {
          "base_uri": "https://localhost:8080/",
          "height": 386
        },
        "id": "LPW6U1186F3R",
        "outputId": "70d4f040-de9e-4b48-e17a-762e735530bf"
      },
      "execution_count": null,
      "outputs": [
        {
          "output_type": "stream",
          "name": "stdout",
          "text": [
            "313/313 [==============================] - 2s 5ms/step - loss: 0.7738 - accuracy: 0.8574\n"
          ]
        },
        {
          "output_type": "display_data",
          "data": {
            "text/plain": [
              "<Figure size 800x400 with 1 Axes>"
            ],
            "image/png": "[encoded data removed]"
          },
          "metadata": {}
        }
      ]
    },
    {
      "cell_type": "markdown",
      "source": [
        "### 가중치 규제(Weight Regularizations)\n",
        "* 개별 layer별로 tensorflow.keras.regularizers의 l1, l2, l1_l2 를 이용하여 가중치 규제를 적용할 수 있음."
      ],
      "metadata": {
        "id": "TXCkQPjQB_cQ"
      }
    },
    {
      "cell_type": "code",
      "source": [
        "from tensorflow.keras.models import Sequential, Model\n",
        "from tensorflow.keras.layers import Input, Dense , Conv2D , Dropout , Flatten , Activation, MaxPooling2D , GlobalAveragePooling2D\n",
        "from tensorflow.keras.optimizers import Adam , RMSprop\n",
        "from tensorflow.keras.layers import BatchNormalization\n",
        "from tensorflow.keras.callbacks import ReduceLROnPlateau , EarlyStopping , ModelCheckpoint , LearningRateScheduler\n",
        "from tensorflow.keras.regularizers import l1, l2, l1_l2\n",
        "\n",
        "input_tensor = Input(shape=(IMAGE_SIZE, IMAGE_SIZE, 3))\n",
        "\n",
        "x = Conv2D(filters=64, kernel_size=(3, 3), padding='same', kernel_regularizer=l2(0.00001))(input_tensor)\n",
        "x = BatchNormalization()(x)\n",
        "x = Activation('relu')(x)\n",
        "\n",
        "x = Conv2D(filters=64, kernel_size=(3, 3), padding='same', kernel_regularizer=l2(0.00001))(x)\n",
        "x = BatchNormalization()(x)\n",
        "x = Activation('relu')(x)\n",
        "x = MaxPooling2D(pool_size=(2, 2))(x)\n",
        "\n",
        "x = Conv2D(filters=128, kernel_size=3, padding='same', kernel_regularizer=l1_l2(l1=1e-5, l2=1e-4))(x)\n",
        "x = BatchNormalization()(x)\n",
        "x = Activation('relu')(x)\n",
        "\n",
        "x = Conv2D(filters=128, kernel_size=3, padding='same', kernel_regularizer=l2(1e-5))(x)\n",
        "x = Activation('relu')(x)\n",
        "x = Activation('relu')(x)\n",
        "x = MaxPooling2D(pool_size=2)(x)\n",
        "\n",
        "x = Conv2D(filters=256, kernel_size=3, padding='same', kernel_regularizer=l2(1e-5))(x)\n",
        "x = BatchNormalization()(x)\n",
        "x = Activation('relu')(x)\n",
        "\n",
        "x = Conv2D(filters=256, kernel_size=3, padding='same', kernel_regularizer=l2(1e-5))(x)\n",
        "x = BatchNormalization()(x)\n",
        "x = Activation('relu')(x)\n",
        "\n",
        "# 512 filters Conv layer 추가하되 이후 MaxPooling을 적용하지 않고 strides는 2로 변경하여 출력 feature map 크기 조정\n",
        "x = Conv2D(filters=512, kernel_size=3, strides=2, padding='same', kernel_regularizer=l2(1e-5))(x)\n",
        "x = BatchNormalization()(x)\n",
        "x = Activation('relu')(x)\n",
        "\n",
        "\n",
        "# cifar10의 클래스가 10개 이므로 마지막 classification의 Dense layer units갯수는 10\n",
        "x = Flatten(name='flatten')(x)\n",
        "x = Dropout(rate=0.5)(x)\n",
        "x = Dense(300, activation='relu', kernel_regularizer=l2(1e-5), name='fc1')(x)\n",
        "x = Dropout(rate=0.3)(x)\n",
        "output = Dense(10, activation='softmax', name='output')(x)\n",
        "\n",
        "model = Model(inputs=input_tensor, outputs=output)\n",
        "\n",
        "model.summary()"
      ],
      "metadata": {
        "id": "0FOyMAXo6GzZ",
        "colab": {
          "base_uri": "https://localhost:8080/"
        },
        "outputId": "834656b9-f42f-48af-dfdd-589c67d80604"
      },
      "execution_count": null,
      "outputs": [
        {
          "output_type": "stream",
          "name": "stdout",
          "text": [
            "Model: \"model_7\"\n",
            "_________________________________________________________________\n",
            " Layer (type)                Output Shape              Param #   \n",
            "=================================================================\n",
            " input_8 (InputLayer)        [(None, 32, 32, 3)]       0         \n",
            "                                                                 \n",
            " conv2d_45 (Conv2D)          (None, 32, 32, 64)        1792      \n",
            "                                                                 \n",
            " batch_normalization_38 (Ba  (None, 32, 32, 64)        256       \n",
            " tchNormalization)                                               \n",
            "                                                                 \n",
            " activation_52 (Activation)  (None, 32, 32, 64)        0         \n",
            "                                                                 \n",
            " conv2d_46 (Conv2D)          (None, 32, 32, 64)        36928     \n",
            "                                                                 \n",
            " batch_normalization_39 (Ba  (None, 32, 32, 64)        256       \n",
            " tchNormalization)                                               \n",
            "                                                                 \n",
            " activation_53 (Activation)  (None, 32, 32, 64)        0         \n",
            "                                                                 \n",
            " max_pooling2d_19 (MaxPooli  (None, 16, 16, 64)        0         \n",
            " ng2D)                                                           \n",
            "                                                                 \n",
            " conv2d_47 (Conv2D)          (None, 16, 16, 128)       73856     \n",
            "                                                                 \n",
            " batch_normalization_40 (Ba  (None, 16, 16, 128)       512       \n",
            " tchNormalization)                                               \n",
            "                                                                 \n",
            " activation_54 (Activation)  (None, 16, 16, 128)       0         \n",
            "                                                                 \n",
            " conv2d_48 (Conv2D)          (None, 16, 16, 128)       147584    \n",
            "                                                                 \n",
            " activation_55 (Activation)  (None, 16, 16, 128)       0         \n",
            "                                                                 \n",
            " activation_56 (Activation)  (None, 16, 16, 128)       0         \n",
            "                                                                 \n",
            " max_pooling2d_20 (MaxPooli  (None, 8, 8, 128)         0         \n",
            " ng2D)                                                           \n",
            "                                                                 \n",
            " conv2d_49 (Conv2D)          (None, 8, 8, 256)         295168    \n",
            "                                                                 \n",
            " batch_normalization_41 (Ba  (None, 8, 8, 256)         1024      \n",
            " tchNormalization)                                               \n",
            "                                                                 \n",
            " activation_57 (Activation)  (None, 8, 8, 256)         0         \n",
            "                                                                 \n",
            " conv2d_50 (Conv2D)          (None, 8, 8, 256)         590080    \n",
            "                                                                 \n",
            " batch_normalization_42 (Ba  (None, 8, 8, 256)         1024      \n",
            " tchNormalization)                                               \n",
            "                                                                 \n",
            " activation_58 (Activation)  (None, 8, 8, 256)         0         \n",
            "                                                                 \n",
            " conv2d_51 (Conv2D)          (None, 4, 4, 512)         1180160   \n",
            "                                                                 \n",
            " batch_normalization_43 (Ba  (None, 4, 4, 512)         2048      \n",
            " tchNormalization)                                               \n",
            "                                                                 \n",
            " activation_59 (Activation)  (None, 4, 4, 512)         0         \n",
            "                                                                 \n",
            " flatten (Flatten)           (None, 8192)              0         \n",
            "                                                                 \n",
            " dropout_14 (Dropout)        (None, 8192)              0         \n",
            "                                                                 \n",
            " fc1 (Dense)                 (None, 300)               2457900   \n",
            "                                                                 \n",
            " dropout_15 (Dropout)        (None, 300)               0         \n",
            "                                                                 \n",
            " output (Dense)              (None, 10)                3010      \n",
            "                                                                 \n",
            "=================================================================\n",
            "Total params: 4791598 (18.28 MB)\n",
            "Trainable params: 4789038 (18.27 MB)\n",
            "Non-trainable params: 2560 (10.00 KB)\n",
            "_________________________________________________________________\n"
          ]
        }
      ]
    },
    {
      "cell_type": "code",
      "source": [
        "model.compile(optimizer=Adam(lr=0.001), loss='categorical_crossentropy', metrics=['accuracy'])\n",
        "\n",
        "# [ ReduceLROnPlateau ] : 5번 iteration내에 validation loss가 향상되지 않으면 learning rate을 기존 learning rate * 0.2로 줄임.\n",
        "rlr_cb = ReduceLROnPlateau(monitor='val_loss', factor=0.2, patience=5, mode='min', verbose=1)\n",
        "# [ EarlyStopping ] :10번 iteration내에 validation loss가 향상되지 않으면 더 이상 학습하지 않고 종료\n",
        "ely_cb = EarlyStopping(monitor='val_loss', patience=10, mode='min', verbose=1)\n",
        "\n",
        "# 학습\n",
        "history = model.fit(x=tr_images, y=tr_oh_labels, batch_size=32, epochs=30, shuffle=True,\n",
        "                    validation_data=(val_images, val_oh_labels),\n",
        "                    callbacks=[rlr_cb, ely_cb])"
      ],
      "metadata": {
        "colab": {
          "base_uri": "https://localhost:8080/"
        },
        "id": "d2LDXTn8CNMC",
        "outputId": "20063f0a-98c8-4c88-809e-bd1a4e7886a6"
      },
      "execution_count": null,
      "outputs": [
        {
          "output_type": "stream",
          "name": "stderr",
          "text": [
            "WARNING:absl:`lr` is deprecated in Keras optimizer, please use `learning_rate` or use the legacy optimizer, e.g.,tf.keras.optimizers.legacy.Adam.\n"
          ]
        },
        {
          "output_type": "stream",
          "name": "stdout",
          "text": [
            "Epoch 1/30\n",
            "1329/1329 [==============================] - 26s 16ms/step - loss: 1.6988 - accuracy: 0.3946 - val_loss: 1.5525 - val_accuracy: 0.4905 - lr: 0.0010\n",
            "Epoch 2/30\n",
            "1329/1329 [==============================] - 20s 15ms/step - loss: 1.2668 - accuracy: 0.5637 - val_loss: 1.2507 - val_accuracy: 0.5709 - lr: 0.0010\n",
            "Epoch 3/30\n",
            "1329/1329 [==============================] - 20s 15ms/step - loss: 1.0921 - accuracy: 0.6429 - val_loss: 0.9181 - val_accuracy: 0.7011 - lr: 0.0010\n",
            "Epoch 4/30\n",
            "1329/1329 [==============================] - 20s 15ms/step - loss: 0.9742 - accuracy: 0.6967 - val_loss: 0.9590 - val_accuracy: 0.7040 - lr: 0.0010\n",
            "Epoch 5/30\n",
            "1329/1329 [==============================] - 20s 15ms/step - loss: 0.8784 - accuracy: 0.7397 - val_loss: 1.0002 - val_accuracy: 0.7156 - lr: 0.0010\n",
            "Epoch 6/30\n",
            "1329/1329 [==============================] - 20s 15ms/step - loss: 0.7977 - accuracy: 0.7789 - val_loss: 0.8146 - val_accuracy: 0.7809 - lr: 0.0010\n",
            "Epoch 7/30\n",
            "1329/1329 [==============================] - 20s 15ms/step - loss: 0.7378 - accuracy: 0.8084 - val_loss: 0.7732 - val_accuracy: 0.8067 - lr: 0.0010\n",
            "Epoch 8/30\n",
            "1329/1329 [==============================] - 20s 15ms/step - loss: 0.6860 - accuracy: 0.8335 - val_loss: 0.9484 - val_accuracy: 0.7589 - lr: 0.0010\n",
            "Epoch 9/30\n",
            "1329/1329 [==============================] - 20s 15ms/step - loss: 0.6366 - accuracy: 0.8539 - val_loss: 0.8819 - val_accuracy: 0.7764 - lr: 0.0010\n",
            "Epoch 10/30\n",
            "1329/1329 [==============================] - 20s 15ms/step - loss: 0.5978 - accuracy: 0.8700 - val_loss: 0.8069 - val_accuracy: 0.8121 - lr: 0.0010\n",
            "Epoch 11/30\n",
            "1329/1329 [==============================] - 20s 15ms/step - loss: 0.5690 - accuracy: 0.8846 - val_loss: 0.8056 - val_accuracy: 0.8233 - lr: 0.0010\n",
            "Epoch 12/30\n",
            "1325/1329 [============================>.] - ETA: 0s - loss: 0.5445 - accuracy: 0.8989\n",
            "Epoch 12: ReduceLROnPlateau reducing learning rate to 0.00020000000949949026.\n",
            "1329/1329 [==============================] - 20s 15ms/step - loss: 0.5446 - accuracy: 0.8989 - val_loss: 0.9161 - val_accuracy: 0.8057 - lr: 0.0010\n",
            "Epoch 13/30\n",
            "1329/1329 [==============================] - 20s 15ms/step - loss: 0.3985 - accuracy: 0.9476 - val_loss: 0.7303 - val_accuracy: 0.8679 - lr: 2.0000e-04\n",
            "Epoch 14/30\n",
            "1329/1329 [==============================] - 20s 15ms/step - loss: 0.3404 - accuracy: 0.9652 - val_loss: 0.7669 - val_accuracy: 0.8697 - lr: 2.0000e-04\n",
            "Epoch 15/30\n",
            "1329/1329 [==============================] - 20s 15ms/step - loss: 0.3098 - accuracy: 0.9730 - val_loss: 0.8171 - val_accuracy: 0.8628 - lr: 2.0000e-04\n",
            "Epoch 16/30\n",
            "1329/1329 [==============================] - 20s 15ms/step - loss: 0.2865 - accuracy: 0.9781 - val_loss: 0.8422 - val_accuracy: 0.8660 - lr: 2.0000e-04\n",
            "Epoch 17/30\n",
            "1329/1329 [==============================] - 20s 15ms/step - loss: 0.2659 - accuracy: 0.9832 - val_loss: 0.8617 - val_accuracy: 0.8640 - lr: 2.0000e-04\n",
            "Epoch 18/30\n",
            "1327/1329 [============================>.] - ETA: 0s - loss: 0.2552 - accuracy: 0.9856\n",
            "Epoch 18: ReduceLROnPlateau reducing learning rate to 4.0000001899898055e-05.\n",
            "1329/1329 [==============================] - 20s 15ms/step - loss: 0.2552 - accuracy: 0.9856 - val_loss: 0.9065 - val_accuracy: 0.8639 - lr: 2.0000e-04\n",
            "Epoch 19/30\n",
            "1329/1329 [==============================] - 20s 15ms/step - loss: 0.2349 - accuracy: 0.9918 - val_loss: 0.8618 - val_accuracy: 0.8717 - lr: 4.0000e-05\n",
            "Epoch 20/30\n",
            "1329/1329 [==============================] - 20s 15ms/step - loss: 0.2247 - accuracy: 0.9946 - val_loss: 0.9144 - val_accuracy: 0.8721 - lr: 4.0000e-05\n",
            "Epoch 21/30\n",
            "1329/1329 [==============================] - 20s 15ms/step - loss: 0.2220 - accuracy: 0.9954 - val_loss: 0.9302 - val_accuracy: 0.8724 - lr: 4.0000e-05\n",
            "Epoch 22/30\n",
            "1329/1329 [==============================] - 20s 15ms/step - loss: 0.2176 - accuracy: 0.9953 - val_loss: 0.9665 - val_accuracy: 0.8700 - lr: 4.0000e-05\n",
            "Epoch 23/30\n",
            "1328/1329 [============================>.] - ETA: 0s - loss: 0.2136 - accuracy: 0.9964\n",
            "Epoch 23: ReduceLROnPlateau reducing learning rate to 8.000000525498762e-06.\n",
            "1329/1329 [==============================] - 20s 15ms/step - loss: 0.2136 - accuracy: 0.9964 - val_loss: 0.9599 - val_accuracy: 0.8729 - lr: 4.0000e-05\n",
            "Epoch 23: early stopping\n"
          ]
        }
      ]
    },
    {
      "cell_type": "code",
      "source": [
        "model.evaluate(test_images, test_oh_labels)\n",
        "show_history(history)"
      ],
      "metadata": {
        "colab": {
          "base_uri": "https://localhost:8080/",
          "height": 386
        },
        "id": "jPSO-xzNDuh8",
        "outputId": "eafb83a2-55d1-48d5-99c5-f808621391e2"
      },
      "execution_count": null,
      "outputs": [
        {
          "output_type": "stream",
          "name": "stdout",
          "text": [
            "313/313 [==============================] - 2s 6ms/step - loss: 1.0056 - accuracy: 0.8730\n"
          ]
        },
        {
          "output_type": "display_data",
          "data": {
            "text/plain": [
              "<Figure size 800x400 with 1 Axes>"
            ],
            "image/png": "[encoded data removed]"
          },
          "metadata": {}
        }
      ]
    },
    {
      "cell_type": "markdown",
      "source": [],
      "metadata": {
        "id": "XPnUOalT2Ijk"
      }
    }
  ]
}