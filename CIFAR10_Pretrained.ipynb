{
  "nbformat": 4,
  "nbformat_minor": 0,
  "metadata": {
    "colab": {
      "provenance": [],
      "toc_visible": true,
      "gpuType": "T4",
      "authorship_tag": "ABX9TyOnCeI1bgn97o3THiEl7SJo"
    },
    "kernelspec": {
      "name": "python3",
      "display_name": "Python 3"
    },
    "language_info": {
      "name": "python"
    },
    "accelerator": "GPU"
  },
  "cells": [
    {
      "cell_type": "code",
      "execution_count": null,
      "metadata": {
        "id": "nCUmI6DGVK5I"
      },
      "outputs": [],
      "source": [
        "import numpy as np\n",
        "import pandas as pd\n",
        "import os"
      ]
    },
    {
      "cell_type": "markdown",
      "source": [
        "### Kears의 Pretrained 모델 로딩 및 모델 구조 확인"
      ],
      "metadata": {
        "id": "UslqVQc6VVZJ"
      }
    },
    {
      "cell_type": "code",
      "source": [
        "# from tensorflow.keras.applications.vgg16 import VGG16\n",
        "# from tensorflow.keras.applications.resnet50 import ResNet50\n",
        "from tensorflow.keras.applications import VGG16, ResNet50, ResNet50V2, Xception\n"
      ],
      "metadata": {
        "id": "b2d2wkWYVUb4"
      },
      "execution_count": null,
      "outputs": []
    },
    {
      "cell_type": "code",
      "source": [
        "# VGG 모델 불러오기\n",
        "model = VGG16()\n",
        "model.summary()"
      ],
      "metadata": {
        "colab": {
          "base_uri": "https://localhost:8080/"
        },
        "id": "7HPYRe_7VxB_",
        "outputId": "79e65633-e91c-414d-b31a-47a349b8e209"
      },
      "execution_count": null,
      "outputs": [
        {
          "output_type": "stream",
          "name": "stdout",
          "text": [
            "Downloading data from https://storage.googleapis.com/tensorflow/keras-applications/vgg16/vgg16_weights_tf_dim_ordering_tf_kernels.h5\n",
            "553467096/553467096 [==============================] - 2s 0us/step\n",
            "Model: \"vgg16\"\n",
            "_________________________________________________________________\n",
            " Layer (type)                Output Shape              Param #   \n",
            "=================================================================\n",
            " input_1 (InputLayer)        [(None, 224, 224, 3)]     0         \n",
            "                                                                 \n",
            " block1_conv1 (Conv2D)       (None, 224, 224, 64)      1792      \n",
            "                                                                 \n",
            " block1_conv2 (Conv2D)       (None, 224, 224, 64)      36928     \n",
            "                                                                 \n",
            " block1_pool (MaxPooling2D)  (None, 112, 112, 64)      0         \n",
            "                                                                 \n",
            " block2_conv1 (Conv2D)       (None, 112, 112, 128)     73856     \n",
            "                                                                 \n",
            " block2_conv2 (Conv2D)       (None, 112, 112, 128)     147584    \n",
            "                                                                 \n",
            " block2_pool (MaxPooling2D)  (None, 56, 56, 128)       0         \n",
            "                                                                 \n",
            " block3_conv1 (Conv2D)       (None, 56, 56, 256)       295168    \n",
            "                                                                 \n",
            " block3_conv2 (Conv2D)       (None, 56, 56, 256)       590080    \n",
            "                                                                 \n",
            " block3_conv3 (Conv2D)       (None, 56, 56, 256)       590080    \n",
            "                                                                 \n",
            " block3_pool (MaxPooling2D)  (None, 28, 28, 256)       0         \n",
            "                                                                 \n",
            " block4_conv1 (Conv2D)       (None, 28, 28, 512)       1180160   \n",
            "                                                                 \n",
            " block4_conv2 (Conv2D)       (None, 28, 28, 512)       2359808   \n",
            "                                                                 \n",
            " block4_conv3 (Conv2D)       (None, 28, 28, 512)       2359808   \n",
            "                                                                 \n",
            " block4_pool (MaxPooling2D)  (None, 14, 14, 512)       0         \n",
            "                                                                 \n",
            " block5_conv1 (Conv2D)       (None, 14, 14, 512)       2359808   \n",
            "                                                                 \n",
            " block5_conv2 (Conv2D)       (None, 14, 14, 512)       2359808   \n",
            "                                                                 \n",
            " block5_conv3 (Conv2D)       (None, 14, 14, 512)       2359808   \n",
            "                                                                 \n",
            " block5_pool (MaxPooling2D)  (None, 7, 7, 512)         0         \n",
            "                                                                 \n",
            " flatten (Flatten)           (None, 25088)             0         \n",
            "                                                                 \n",
            " fc1 (Dense)                 (None, 4096)              102764544 \n",
            "                                                                 \n",
            " fc2 (Dense)                 (None, 4096)              16781312  \n",
            "                                                                 \n",
            " predictions (Dense)         (None, 1000)              4097000   \n",
            "                                                                 \n",
            "=================================================================\n",
            "Total params: 138,357,544\n",
            "Trainable params: 138,357,544\n",
            "Non-trainable params: 0\n",
            "_________________________________________________________________\n"
          ]
        }
      ]
    },
    {
      "cell_type": "code",
      "source": [
        "# VGG 모델 불러오기 : include_top = Flase : CNN중 classification 영역의 레이어는 제외하고 모델을 가져온다\n",
        "model = VGG16(input_shape=(32,32,3), include_top=False, weights='imagenet')\n",
        "model.summary"
      ],
      "metadata": {
        "colab": {
          "base_uri": "https://localhost:8080/"
        },
        "id": "AWthb4HnV032",
        "outputId": "30347104-c7cb-41e3-a31b-dc6873e969ff"
      },
      "execution_count": null,
      "outputs": [
        {
          "output_type": "stream",
          "name": "stdout",
          "text": [
            "Downloading data from https://storage.googleapis.com/tensorflow/keras-applications/vgg16/vgg16_weights_tf_dim_ordering_tf_kernels_notop.h5\n",
            "58889256/58889256 [==============================] - 0s 0us/step\n"
          ]
        },
        {
          "output_type": "execute_result",
          "data": {
            "text/plain": [
              "<bound method Model.summary of <keras.engine.functional.Functional object at 0x7ad7bd535c00>>"
            ]
          },
          "metadata": {},
          "execution_count": 4
        }
      ]
    },
    {
      "cell_type": "markdown",
      "source": [
        "### Keras의 Model도 Functional이다\n",
        "- 대문자로 써져있으면 대부분 Functional 레이어이다!"
      ],
      "metadata": {
        "id": "CP9vVPQuWex2"
      }
    },
    {
      "cell_type": "code",
      "source": [
        "print('model: ', model) # model을 출력해보면 functional 객체임을 확인할 수 있다\n",
        "print('model output: ', model.output)"
      ],
      "metadata": {
        "colab": {
          "base_uri": "https://localhost:8080/"
        },
        "id": "Hk3_UR3hWXok",
        "outputId": "043af7d8-5fcf-41f2-d001-a34303f71780"
      },
      "execution_count": null,
      "outputs": [
        {
          "output_type": "stream",
          "name": "stdout",
          "text": [
            "model:  <keras.engine.functional.Functional object at 0x7ad7bd535c00>\n",
            "model output:  KerasTensor(type_spec=TensorSpec(shape=(None, 1, 1, 512), dtype=tf.float32, name=None), name='block5_pool/MaxPool:0', description=\"created by layer 'block5_pool'\")\n"
          ]
        }
      ]
    },
    {
      "cell_type": "markdown",
      "source": [
        "### Pretrained 모델 기반으로 CIFAR 10 분류 모델 재생성"
      ],
      "metadata": {
        "id": "LnyF0xdiXGDL"
      }
    },
    {
      "cell_type": "code",
      "source": [
        "# 이미지 사이즈와 배치 사이즈를 미리 설정해주자\n",
        "IMAGE_SIZE = 32\n",
        "BATCH_SIZE = 64"
      ],
      "metadata": {
        "id": "b4mb5aKnW7vs"
      },
      "execution_count": null,
      "outputs": []
    },
    {
      "cell_type": "code",
      "source": [
        "from tensorflow.keras.models import Sequential, Model\n",
        "from tensorflow.keras.layers import Input, Dense, Conv2D, Flatten, Activation, MaxPooling2D, GlobalAveragePooling2D\n",
        "from tensorflow.keras.optimizers import Adam, RMSprop\n",
        "from tensorflow.keras.layers import BatchNormalization\n",
        "from tensorflow.keras.callbacks import ReduceLROnPlateau, EarlyStopping, ModelCheckpoint, LearningRateScheduler\n",
        "\n",
        "# include = False : classifier 층 모두 제거, weight = 'imagenet' : 가져온 모델이 imagenet으로 학습한 가중치를 초기 가중치로 설정\n",
        "\n",
        "base_model = VGG16(input_shape=(IMAGE_SIZE, IMAGE_SIZE,3), include_top=False, weights='imagenet')\n",
        "bm_output = base_model.output\n",
        "\n",
        "# basemodel의 output을 입력으로 CIFAR10용 Classification layer를 재구성하자\n",
        "x = GlobalAveragePooling2D()(bm_output) # 원문에서는 flatten 사용했으나 여기선 GAP 사용\n",
        "x = Dense(50, activation='relu', name='fc1')(x)\n",
        "output = Dense(10, activation='softmax', name='output')(x)\n",
        "\n",
        "model = Model(inputs=base_model.input, outputs=output)\n",
        "model.summary()"
      ],
      "metadata": {
        "colab": {
          "base_uri": "https://localhost:8080/"
        },
        "id": "8RoDUWyeXRq4",
        "outputId": "f518724e-7e04-483a-969f-e157dafe3c7d"
      },
      "execution_count": null,
      "outputs": [
        {
          "output_type": "stream",
          "name": "stdout",
          "text": [
            "Model: \"model\"\n",
            "_________________________________________________________________\n",
            " Layer (type)                Output Shape              Param #   \n",
            "=================================================================\n",
            " input_3 (InputLayer)        [(None, 32, 32, 3)]       0         \n",
            "                                                                 \n",
            " block1_conv1 (Conv2D)       (None, 32, 32, 64)        1792      \n",
            "                                                                 \n",
            " block1_conv2 (Conv2D)       (None, 32, 32, 64)        36928     \n",
            "                                                                 \n",
            " block1_pool (MaxPooling2D)  (None, 16, 16, 64)        0         \n",
            "                                                                 \n",
            " block2_conv1 (Conv2D)       (None, 16, 16, 128)       73856     \n",
            "                                                                 \n",
            " block2_conv2 (Conv2D)       (None, 16, 16, 128)       147584    \n",
            "                                                                 \n",
            " block2_pool (MaxPooling2D)  (None, 8, 8, 128)         0         \n",
            "                                                                 \n",
            " block3_conv1 (Conv2D)       (None, 8, 8, 256)         295168    \n",
            "                                                                 \n",
            " block3_conv2 (Conv2D)       (None, 8, 8, 256)         590080    \n",
            "                                                                 \n",
            " block3_conv3 (Conv2D)       (None, 8, 8, 256)         590080    \n",
            "                                                                 \n",
            " block3_pool (MaxPooling2D)  (None, 4, 4, 256)         0         \n",
            "                                                                 \n",
            " block4_conv1 (Conv2D)       (None, 4, 4, 512)         1180160   \n",
            "                                                                 \n",
            " block4_conv2 (Conv2D)       (None, 4, 4, 512)         2359808   \n",
            "                                                                 \n",
            " block4_conv3 (Conv2D)       (None, 4, 4, 512)         2359808   \n",
            "                                                                 \n",
            " block4_pool (MaxPooling2D)  (None, 2, 2, 512)         0         \n",
            "                                                                 \n",
            " block5_conv1 (Conv2D)       (None, 2, 2, 512)         2359808   \n",
            "                                                                 \n",
            " block5_conv2 (Conv2D)       (None, 2, 2, 512)         2359808   \n",
            "                                                                 \n",
            " block5_conv3 (Conv2D)       (None, 2, 2, 512)         2359808   \n",
            "                                                                 \n",
            " block5_pool (MaxPooling2D)  (None, 1, 1, 512)         0         \n",
            "                                                                 \n",
            " global_average_pooling2d (G  (None, 512)              0         \n",
            " lobalAveragePooling2D)                                          \n",
            "                                                                 \n",
            " fc1 (Dense)                 (None, 50)                25650     \n",
            "                                                                 \n",
            " output (Dense)              (None, 10)                510       \n",
            "                                                                 \n",
            "=================================================================\n",
            "Total params: 14,740,848\n",
            "Trainable params: 14,740,848\n",
            "Non-trainable params: 0\n",
            "_________________________________________________________________\n"
          ]
        }
      ]
    },
    {
      "cell_type": "code",
      "source": [
        "## 다른 방식으로 input 표현하기 : input부분을 변수로 따로 작성하기 (더 직관적)\n",
        "# input_tensor = Input(shape=(IMAGE_SIZE, IMAGE_SIZE, 3))\n",
        "# base_model = VGG16(input_tensor=input_tensor, include_top=False, weight='imagenet')\n",
        "\n",
        "# model = Model(inputs=input_tensor, outputs=output)\n",
        "# model.summary()"
      ],
      "metadata": {
        "id": "CuWWj9p3ZVFJ"
      },
      "execution_count": null,
      "outputs": []
    },
    {
      "cell_type": "markdown",
      "source": [
        "## 데이터 전처리 및 ImageDataGenerator로 Augmentation 설정 & 학습/검증용 Generator 생성"
      ],
      "metadata": {
        "id": "nCYyLZ8MaiLl"
      }
    },
    {
      "cell_type": "markdown",
      "source": [
        "### 데이터 전처리"
      ],
      "metadata": {
        "id": "jc17Be0ha_z5"
      }
    },
    {
      "cell_type": "code",
      "source": [
        "import tensorflow as tf\n",
        "import numpy as np\n",
        "import pandas as pd\n",
        "\n",
        "import random as python_random\n",
        "from tensorflow.keras.utils import to_categorical\n",
        "from sklearn.model_selection import train_test_split\n",
        "from tensorflow.keras.datasets import cifar10\n",
        "\n",
        "# seed 를 설정해서 학습시마다 동일한 결과 유도. 불행히도 의도한 대로 동작하지 않음.\n",
        "def set_random_seed(seed_value):\n",
        "    np.random.seed(seed_value)\n",
        "    python_random.seed(seed_value)\n",
        "    tf.random.set_seed(seed_value)\n",
        "\n",
        "# 0 ~ 1사이값의 float32로 변경하는 함수\n",
        "def get_preprocessed_data(images, labels, scaling=True):\n",
        "\n",
        "    # 학습과 테스트 이미지 array를 0~1 사이값으로 scale 및 float32 형 변형.\n",
        "    if scaling:\n",
        "        images = np.array(images/255.0, dtype=np.float32)\n",
        "    else:\n",
        "        images = np.array(images, dtype=np.float32)\n",
        "\n",
        "    labels = np.array(labels, dtype=np.float32)\n",
        "\n",
        "    return images, labels\n",
        "\n",
        "# 0 ~ 1사이값 float32로 변경하는 함수 호출 한 뒤 OHE 적용\n",
        "def get_preprocessed_ohe(images, labels):\n",
        "    images, labels = get_preprocessed_data(images, labels, scaling=False)\n",
        "    # OHE 적용\n",
        "    oh_labels = to_categorical(labels)\n",
        "    return images, oh_labels\n",
        "\n",
        "# 학습/검증/테스트 데이터 세트에 전처리 및 OHE 적용한 뒤 반환\n",
        "def get_train_valid_test_set(train_images, train_labels, test_images, test_labels, valid_size=0.15, random_state=2021):\n",
        "    # 학습 및 테스트 데이터 세트를  0 ~ 1사이값 float32로 변경 및 OHE 적용.\n",
        "    train_images, train_oh_labels = get_preprocessed_ohe(train_images, train_labels)\n",
        "    test_images, test_oh_labels = get_preprocessed_ohe(test_images, test_labels)\n",
        "\n",
        "    # 학습 데이터를 검증 데이터 세트로 다시 분리\n",
        "    tr_images, val_images, tr_oh_labels, val_oh_labels = train_test_split(train_images, train_oh_labels, test_size=valid_size, random_state=random_state)\n",
        "\n",
        "    return (tr_images, tr_oh_labels), (val_images, val_oh_labels), (test_images, test_oh_labels )\n",
        "\n",
        "\n",
        "# random seed는 2021로 고정.\n",
        "set_random_seed(2021)\n",
        "# CIFAR10 데이터 재 로딩 및 Scaling/OHE 전처리 적용하여 학습/검증/데이터 세트 생성.\n",
        "(train_images, train_labels), (test_images, test_labels) = cifar10.load_data()\n",
        "print(train_images.shape, train_labels.shape, test_images.shape, test_labels.shape)\n",
        "\n",
        "(tr_images, tr_oh_labels), (val_images, val_oh_labels), (test_images, test_oh_labels) = \\\n",
        "    get_train_valid_test_set(train_images, train_labels, test_images, test_labels, valid_size=0.15, random_state=2021)\n",
        "\n",
        "print(tr_images.shape, tr_oh_labels.shape, val_images.shape, val_oh_labels.shape, test_images.shape, test_oh_labels.shape)"
      ],
      "metadata": {
        "colab": {
          "base_uri": "https://localhost:8080/"
        },
        "id": "nZlnjkASafiU",
        "outputId": "c7ce4e44-8993-4af8-95f0-cf059fc6b7d0"
      },
      "execution_count": null,
      "outputs": [
        {
          "output_type": "stream",
          "name": "stdout",
          "text": [
            "Downloading data from https://www.cs.toronto.edu/~kriz/cifar-10-python.tar.gz\n",
            "170498071/170498071 [==============================] - 2s 0us/step\n",
            "(50000, 32, 32, 3) (50000, 1) (10000, 32, 32, 3) (10000, 1)\n",
            "(42500, 32, 32, 3) (42500, 10) (7500, 32, 32, 3) (7500, 10) (10000, 32, 32, 3) (10000, 10)\n"
          ]
        }
      ]
    },
    {
      "cell_type": "markdown",
      "source": [
        "### Augmentation 설정 & 학습/검증용 Generator 생성"
      ],
      "metadata": {
        "id": "mBMfxCOTbCC2"
      }
    },
    {
      "cell_type": "code",
      "source": [
        "from tensorflow.keras.preprocessing.image import ImageDataGenerator\n",
        "\n",
        "train_generator = ImageDataGenerator(\n",
        "    # rotation_range=20,\n",
        "    #zoom_range=(0.7, 0.9),\n",
        "    horizontal_flip=True,\n",
        "    #vertical_flip=True,\n",
        "    rescale=1/255.0\n",
        ")\n",
        "valid_generator = ImageDataGenerator(rescale=1/255.0)\n",
        "\n",
        "flow_tr_gen = train_generator.flow(tr_images, tr_oh_labels, batch_size=BATCH_SIZE, shuffle=True)\n",
        "flow_val_gen = valid_generator.flow(val_images, val_oh_labels, batch_size=BATCH_SIZE, shuffle=False)"
      ],
      "metadata": {
        "id": "PmTH33mOa7Zs"
      },
      "execution_count": null,
      "outputs": []
    },
    {
      "cell_type": "markdown",
      "source": [
        "## Keras CNN 모델 생성 함수"
      ],
      "metadata": {
        "id": "VqHUF_rIbi0Z"
      }
    },
    {
      "cell_type": "code",
      "source": [
        "IMAGE_SIZE = 32\n",
        "BATCH_SIZE = 64"
      ],
      "metadata": {
        "id": "9zsHcKTYbfpQ"
      },
      "execution_count": null,
      "outputs": []
    },
    {
      "cell_type": "markdown",
      "source": [
        "### 모델 생성하기"
      ],
      "metadata": {
        "id": "sYfPuivzc5Gi"
      }
    },
    {
      "cell_type": "code",
      "source": [
        "from tensorflow.keras.models import Sequential, Model\n",
        "from tensorflow.keras.layers import Input, Dense , Conv2D , Dropout , Flatten , Activation, MaxPooling2D , GlobalAveragePooling2D\n",
        "from tensorflow.keras.optimizers import Adam , RMSprop\n",
        "from tensorflow.keras.layers import BatchNormalization\n",
        "from tensorflow.keras.callbacks import ReduceLROnPlateau , EarlyStopping , ModelCheckpoint , LearningRateScheduler\n",
        "\n",
        "def create_model(verbose=False):\n",
        "  input_tensor = Input(shape=(IMAGE_SIZE, IMAGE_SIZE, 3)) # 인풋값 설정\n",
        "  base_model = VGG16(input_tensor=input_tensor, include_top=False, weights='imagenet') # 모델 생성\n",
        "  bm_output = base_model.output\n",
        "\n",
        "  # classifier\n",
        "  x = GlobalAveragePooling2D()(bm_output)\n",
        "  x = Dense(50, activation='relu', name='fc1')(x)\n",
        "  output = Dense(10, activation='softmax', name='output')(x)\n",
        "\n",
        "  # 모델 작동\n",
        "  model = Model(inputs=input_tensor, outputs=output)\n",
        "  if verbose:\n",
        "    model.summary()\n",
        "\n",
        "  return model"
      ],
      "metadata": {
        "id": "SUChtjAmbrRK"
      },
      "execution_count": null,
      "outputs": []
    },
    {
      "cell_type": "code",
      "source": [
        "from keras.optimizers import optimizer\n",
        "\n",
        "# 모델 객체 생성\n",
        "vgg_model = create_model(verbose=True)\n",
        "vgg_model.compile(optimizer=Adam(lr=0.0001), loss='categorical_crossentropy', metrics=['accuracy'])\n",
        "\n",
        "# 5번의 iteration 내에 validation loss가 향상되지 않으면 learning rate을 기존 learning rate * 0.2 로 줄인다\n",
        "rlr_cb = ReduceLROnPlateau(monitor='val_loss', factor=0.2, patience=5, mode='min', verbose=1)\n",
        "\n",
        "# 10번의 iteration 내에 validation loss가 향상되지 않으면 더 이상 학습하지 않고 종료\n",
        "ely_cb = EarlyStopping(monitor='val_loss', patience=10, mode=10, verbose=1)"
      ],
      "metadata": {
        "colab": {
          "base_uri": "https://localhost:8080/"
        },
        "id": "gfDNJoOuc3mj",
        "outputId": "4962e506-effb-4858-bdb5-affa94f743d7"
      },
      "execution_count": null,
      "outputs": [
        {
          "output_type": "stream",
          "name": "stdout",
          "text": [
            "Model: \"model_1\"\n",
            "_________________________________________________________________\n",
            " Layer (type)                Output Shape              Param #   \n",
            "=================================================================\n",
            " input_4 (InputLayer)        [(None, 32, 32, 3)]       0         \n",
            "                                                                 \n",
            " block1_conv1 (Conv2D)       (None, 32, 32, 64)        1792      \n",
            "                                                                 \n",
            " block1_conv2 (Conv2D)       (None, 32, 32, 64)        36928     \n",
            "                                                                 \n",
            " block1_pool (MaxPooling2D)  (None, 16, 16, 64)        0         \n",
            "                                                                 \n",
            " block2_conv1 (Conv2D)       (None, 16, 16, 128)       73856     \n",
            "                                                                 \n",
            " block2_conv2 (Conv2D)       (None, 16, 16, 128)       147584    \n",
            "                                                                 \n",
            " block2_pool (MaxPooling2D)  (None, 8, 8, 128)         0         \n",
            "                                                                 \n",
            " block3_conv1 (Conv2D)       (None, 8, 8, 256)         295168    \n",
            "                                                                 \n",
            " block3_conv2 (Conv2D)       (None, 8, 8, 256)         590080    \n",
            "                                                                 \n",
            " block3_conv3 (Conv2D)       (None, 8, 8, 256)         590080    \n",
            "                                                                 \n",
            " block3_pool (MaxPooling2D)  (None, 4, 4, 256)         0         \n",
            "                                                                 \n",
            " block4_conv1 (Conv2D)       (None, 4, 4, 512)         1180160   \n",
            "                                                                 \n",
            " block4_conv2 (Conv2D)       (None, 4, 4, 512)         2359808   \n",
            "                                                                 \n",
            " block4_conv3 (Conv2D)       (None, 4, 4, 512)         2359808   \n",
            "                                                                 \n",
            " block4_pool (MaxPooling2D)  (None, 2, 2, 512)         0         \n",
            "                                                                 \n",
            " block5_conv1 (Conv2D)       (None, 2, 2, 512)         2359808   \n",
            "                                                                 \n",
            " block5_conv2 (Conv2D)       (None, 2, 2, 512)         2359808   \n",
            "                                                                 \n",
            " block5_conv3 (Conv2D)       (None, 2, 2, 512)         2359808   \n",
            "                                                                 \n",
            " block5_pool (MaxPooling2D)  (None, 1, 1, 512)         0         \n",
            "                                                                 \n",
            " global_average_pooling2d_1   (None, 512)              0         \n",
            " (GlobalAveragePooling2D)                                        \n",
            "                                                                 \n",
            " fc1 (Dense)                 (None, 50)                25650     \n",
            "                                                                 \n",
            " output (Dense)              (None, 10)                510       \n",
            "                                                                 \n",
            "=================================================================\n",
            "Total params: 14,740,848\n",
            "Trainable params: 14,740,848\n",
            "Non-trainable params: 0\n",
            "_________________________________________________________________\n"
          ]
        },
        {
          "output_type": "stream",
          "name": "stderr",
          "text": [
            "WARNING:absl:`lr` is deprecated in Keras optimizer, please use `learning_rate` or use the legacy optimizer, e.g.,tf.keras.optimizers.legacy.Adam.\n",
            "WARNING:tensorflow:EarlyStopping mode 10 is unknown, fallback to auto mode.\n"
          ]
        }
      ]
    },
    {
      "cell_type": "code",
      "source": [
        "# steps 횟수를 구하기 위해 학습 데이터의 건수와 검증 데이터의 건수를 구함. steps = ceil(학습 데이터 건수/BATCH_SIZE)\n",
        "tr_data_len = tr_images.shape[0]\n",
        "val_data_len = val_images.shape[0]\n",
        "history = vgg_model.fit(flow_tr_gen, epochs=40,\n",
        "                    steps_per_epoch=int(np.ceil(tr_data_len/BATCH_SIZE)),\n",
        "                    validation_data=flow_val_gen, validation_steps=int(np.ceil(val_data_len/BATCH_SIZE)),\n",
        "                    callbacks=[rlr_cb, ely_cb])"
      ],
      "metadata": {
        "colab": {
          "base_uri": "https://localhost:8080/"
        },
        "id": "aGSR163weZAc",
        "outputId": "9d0d9f3b-9c03-43af-9164-fcd80b7d412d"
      },
      "execution_count": null,
      "outputs": [
        {
          "output_type": "stream",
          "name": "stdout",
          "text": [
            "Epoch 1/40\n",
            "665/665 [==============================] - 44s 38ms/step - loss: 1.8362 - accuracy: 0.2769 - val_loss: 1.5938 - val_accuracy: 0.3655 - lr: 0.0010\n",
            "Epoch 2/40\n",
            "665/665 [==============================] - 24s 36ms/step - loss: 1.3103 - accuracy: 0.5050 - val_loss: 1.1529 - val_accuracy: 0.5889 - lr: 0.0010\n",
            "Epoch 3/40\n",
            "665/665 [==============================] - 24s 37ms/step - loss: 1.0189 - accuracy: 0.6391 - val_loss: 0.9978 - val_accuracy: 0.6524 - lr: 0.0010\n",
            "Epoch 4/40\n",
            "665/665 [==============================] - 25s 38ms/step - loss: 0.8552 - accuracy: 0.7042 - val_loss: 0.8536 - val_accuracy: 0.7092 - lr: 0.0010\n",
            "Epoch 5/40\n",
            "665/665 [==============================] - 25s 37ms/step - loss: 0.7570 - accuracy: 0.7437 - val_loss: 0.7374 - val_accuracy: 0.7511 - lr: 0.0010\n",
            "Epoch 6/40\n",
            "665/665 [==============================] - 25s 38ms/step - loss: 0.6765 - accuracy: 0.7736 - val_loss: 0.6675 - val_accuracy: 0.7772 - lr: 0.0010\n",
            "Epoch 7/40\n",
            "665/665 [==============================] - 25s 38ms/step - loss: 0.6138 - accuracy: 0.7964 - val_loss: 0.6460 - val_accuracy: 0.7905 - lr: 0.0010\n",
            "Epoch 8/40\n",
            "665/665 [==============================] - 25s 38ms/step - loss: 0.5626 - accuracy: 0.8129 - val_loss: 0.6820 - val_accuracy: 0.7796 - lr: 0.0010\n",
            "Epoch 9/40\n",
            "665/665 [==============================] - 25s 38ms/step - loss: 0.5245 - accuracy: 0.8270 - val_loss: 0.6103 - val_accuracy: 0.7992 - lr: 0.0010\n",
            "Epoch 10/40\n",
            "665/665 [==============================] - 28s 42ms/step - loss: 0.4930 - accuracy: 0.8393 - val_loss: 0.6125 - val_accuracy: 0.8124 - lr: 0.0010\n",
            "Epoch 11/40\n",
            "665/665 [==============================] - 25s 38ms/step - loss: 0.4539 - accuracy: 0.8520 - val_loss: 0.5697 - val_accuracy: 0.8147 - lr: 0.0010\n",
            "Epoch 12/40\n",
            "665/665 [==============================] - 27s 40ms/step - loss: 0.4357 - accuracy: 0.8583 - val_loss: 0.5603 - val_accuracy: 0.8209 - lr: 0.0010\n",
            "Epoch 13/40\n",
            "665/665 [==============================] - 25s 38ms/step - loss: 0.3994 - accuracy: 0.8708 - val_loss: 0.6799 - val_accuracy: 0.7979 - lr: 0.0010\n",
            "Epoch 14/40\n",
            "665/665 [==============================] - 27s 40ms/step - loss: 0.3927 - accuracy: 0.8727 - val_loss: 0.5691 - val_accuracy: 0.8221 - lr: 0.0010\n",
            "Epoch 15/40\n",
            "665/665 [==============================] - 26s 39ms/step - loss: 0.3694 - accuracy: 0.8805 - val_loss: 0.5597 - val_accuracy: 0.8281 - lr: 0.0010\n",
            "Epoch 16/40\n",
            "665/665 [==============================] - 26s 39ms/step - loss: 0.3482 - accuracy: 0.8862 - val_loss: 0.5769 - val_accuracy: 0.8291 - lr: 0.0010\n",
            "Epoch 17/40\n",
            "665/665 [==============================] - 26s 39ms/step - loss: 0.3279 - accuracy: 0.8944 - val_loss: 0.5801 - val_accuracy: 0.8269 - lr: 0.0010\n",
            "Epoch 18/40\n",
            "665/665 [==============================] - 26s 39ms/step - loss: 0.3265 - accuracy: 0.8944 - val_loss: 0.5747 - val_accuracy: 0.8287 - lr: 0.0010\n",
            "Epoch 19/40\n",
            "665/665 [==============================] - 25s 38ms/step - loss: 0.2947 - accuracy: 0.9065 - val_loss: 0.6117 - val_accuracy: 0.8184 - lr: 0.0010\n",
            "Epoch 20/40\n",
            "665/665 [==============================] - 25s 38ms/step - loss: 0.2944 - accuracy: 0.9069 - val_loss: 0.5386 - val_accuracy: 0.8447 - lr: 0.0010\n",
            "Epoch 21/40\n",
            "665/665 [==============================] - 25s 38ms/step - loss: 0.2763 - accuracy: 0.9116 - val_loss: 0.5535 - val_accuracy: 0.8316 - lr: 0.0010\n",
            "Epoch 22/40\n",
            "665/665 [==============================] - 25s 38ms/step - loss: 0.2616 - accuracy: 0.9154 - val_loss: 0.6164 - val_accuracy: 0.8249 - lr: 0.0010\n",
            "Epoch 23/40\n",
            "665/665 [==============================] - 25s 38ms/step - loss: 0.2484 - accuracy: 0.9199 - val_loss: 0.6564 - val_accuracy: 0.8308 - lr: 0.0010\n",
            "Epoch 24/40\n",
            "665/665 [==============================] - 25s 37ms/step - loss: 0.2418 - accuracy: 0.9246 - val_loss: 0.6150 - val_accuracy: 0.8400 - lr: 0.0010\n",
            "Epoch 25/40\n",
            "665/665 [==============================] - ETA: 0s - loss: 0.2434 - accuracy: 0.9225\n",
            "Epoch 25: ReduceLROnPlateau reducing learning rate to 0.00020000000949949026.\n",
            "665/665 [==============================] - 25s 38ms/step - loss: 0.2434 - accuracy: 0.9225 - val_loss: 0.6123 - val_accuracy: 0.8285 - lr: 0.0010\n",
            "Epoch 26/40\n",
            "665/665 [==============================] - 25s 37ms/step - loss: 0.1341 - accuracy: 0.9582 - val_loss: 0.5910 - val_accuracy: 0.8563 - lr: 2.0000e-04\n",
            "Epoch 27/40\n",
            "665/665 [==============================] - 25s 38ms/step - loss: 0.0854 - accuracy: 0.9729 - val_loss: 0.6809 - val_accuracy: 0.8601 - lr: 2.0000e-04\n",
            "Epoch 28/40\n",
            "665/665 [==============================] - 25s 37ms/step - loss: 0.0646 - accuracy: 0.9801 - val_loss: 0.6775 - val_accuracy: 0.8563 - lr: 2.0000e-04\n",
            "Epoch 29/40\n",
            "665/665 [==============================] - 25s 38ms/step - loss: 0.0503 - accuracy: 0.9851 - val_loss: 0.7421 - val_accuracy: 0.8604 - lr: 2.0000e-04\n",
            "Epoch 30/40\n",
            "665/665 [==============================] - ETA: 0s - loss: 0.0445 - accuracy: 0.9868\n",
            "Epoch 30: ReduceLROnPlateau reducing learning rate to 4.0000001899898055e-05.\n",
            "665/665 [==============================] - 25s 38ms/step - loss: 0.0445 - accuracy: 0.9868 - val_loss: 0.7850 - val_accuracy: 0.8576 - lr: 2.0000e-04\n",
            "Epoch 30: early stopping\n"
          ]
        }
      ]
    },
    {
      "cell_type": "code",
      "source": [
        "# 테스트 세트에 대한 Generator도 만들어주어 rescale, batch 설정 후 evaluate\n",
        "test_generator = ImageDataGenerator(rescale=1/255.0)\n",
        "flow_test_gen = test_generator.flow(test_images, test_labels, batch_size=BATCH_SIZE, shuffle=False)\n",
        "vgg_model.evaluate(flow_test_gen)"
      ],
      "metadata": {
        "colab": {
          "base_uri": "https://localhost:8080/"
        },
        "id": "e8oflpwjf4SZ",
        "outputId": "d472c70c-51e7-4907-91ff-0e149c631182"
      },
      "execution_count": null,
      "outputs": [
        {
          "output_type": "stream",
          "name": "stdout",
          "text": [
            "157/157 [==============================] - 2s 13ms/step - loss: 1369.1195 - accuracy: 0.1075\n"
          ]
        },
        {
          "output_type": "execute_result",
          "data": {
            "text/plain": [
              "[1369.1195068359375, 0.10750000178813934]"
            ]
          },
          "metadata": {},
          "execution_count": 15
        }
      ]
    },
    {
      "cell_type": "code",
      "source": [
        "# 시각화\n",
        "\n",
        "import matplotlib.pyplot as plt\n",
        "%matplotlib inline\n",
        "\n",
        "def show_history(history):\n",
        "  plt.figure(figsize=(8,4))\n",
        "  plt.yticks(np.arange(0, 1, 0.05))\n",
        "  plt.xticks(np.arange(0, 30, 2))\n",
        "  plt.plot(history.history['accuracy'], label='train')\n",
        "  plt.plot(history.history['val_accuracy'], label='valid')\n",
        "  plt.legend()\n",
        "\n",
        "\n",
        "show_history(history)"
      ],
      "metadata": {
        "colab": {
          "base_uri": "https://localhost:8080/",
          "height": 368
        },
        "id": "zj58H_LumNiN",
        "outputId": "5da1464a-7d5f-42d6-e673-e7e7c889b6da"
      },
      "execution_count": null,
      "outputs": [
        {
          "output_type": "display_data",
          "data": {
            "text/plain": [
              "<Figure size 800x400 with 1 Axes>"
            ],
            "image/png": "[encoded data removed]"
          },
          "metadata": {}
        }
      ]
    }
  ]
}