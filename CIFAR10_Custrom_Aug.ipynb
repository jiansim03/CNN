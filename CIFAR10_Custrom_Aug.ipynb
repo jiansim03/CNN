{
  "cells": [
    {
      "cell_type": "code",
      "execution_count": null,
      "metadata": {
        "id": "Z6HxPoOuYP8B"
      },
      "outputs": [],
      "source": [
        "import numpy as np\n",
        "import pandas as pd\n",
        "import os"
      ]
    },
    {
      "cell_type": "code",
      "execution_count": null,
      "metadata": {
        "id": "SuqOMlscYP8G"
      },
      "outputs": [],
      "source": [
        "# 필요한 모듈 임포트\n",
        "import tensorflow as tf\n",
        "import numpy as np\n",
        "import pandas as pd\n",
        "import random\n",
        "\n",
        "import tensorflow as python_random\n",
        "from tensorflow.keras.utils import to_categorical\n",
        "from sklearn.model_selection import train_test_split\n",
        "from tensorflow.keras.datasets import cifar10"
      ]
    },
    {
      "cell_type": "code",
      "execution_count": null,
      "metadata": {
        "id": "Zr_STaLgYP8I"
      },
      "outputs": [],
      "source": [
        "# seed를 설정해서 학습시마다 동일한 결과 유도 시도 (의도대로 동작은 X)\n",
        "def set_random_seed(seed_value):\n",
        "  np.random.seed(seed_value)\n",
        "  random.seed(seed_value)\n",
        "  tf.random.set_seed(seed_value)"
      ]
    },
    {
      "cell_type": "code",
      "execution_count": null,
      "metadata": {
        "colab": {
          "base_uri": "https://localhost:8080/"
        },
        "id": "rZsA31pqYP8J",
        "outputId": "c569970f-0dba-4cc2-879a-c82eca1fa59d"
      },
      "outputs": [
        {
          "output_type": "stream",
          "name": "stdout",
          "text": [
            "Downloading data from https://www.cs.toronto.edu/~kriz/cifar-10-python.tar.gz\n",
            "170498071/170498071 [==============================] - 2s 0us/step\n",
            "(before spliting validation data) \n",
            "train data : (50000, 32, 32, 3) (50000, 1) \n",
            "Test data :  (10000, 32, 32, 3) (10000, 1)\n",
            "\n",
            "Train data : (42500, 32, 32, 3) (42500, 10) \n",
            "Validation data :  (7500, 32, 32, 3) (7500, 10) \n",
            "Test data :  (10000, 32, 32, 3) (10000, 10)\n"
          ]
        }
      ],
      "source": [
        "# 0~1 사이의 값의 float 32로 변경하는 함수\n",
        "def get_preprocessed_data(images, labels, scaling=True):\n",
        "\n",
        "  # 학습과 테스트 이미지 array를 0~1  사이 값으로 scale 및 float32 자료형으로 변환\n",
        "  if scaling:\n",
        "    images = np.array(images/255.0, dtype=np.float32)\n",
        "  else:\n",
        "    images = np.array(images, dtype=np.float32) # 자료형만 변환\n",
        "\n",
        "  labels = np.array(labels, dtype=np.float32) # label도 float로 변환\n",
        "\n",
        "  return images, labels\n",
        "\n",
        "def get_preprocessed_ohe(images, labels):\n",
        "  images, labels = get_preprocessed_data(images, labels, scaling=False)\n",
        "  # OHE 적용\n",
        "  oh_labels = to_categorical(labels)\n",
        "  return images, oh_labels\n",
        "\n",
        "# 학습/검증/테스트 데이터 셋에 전처리 및 OHE 적용한 뒤 반환\n",
        "def get_train_valid_test_set(train_images, train_labels, test_images, test_labels, valid_size=0.15, random_state=2023):\n",
        "  # 학습 및 테스트 데이터 셋을 0~1사이 값 float32 로 변경 및 OHE 적용\n",
        "  train_images, train_oh_labels = get_preprocessed_ohe(train_images, train_labels)\n",
        "  test_images, test_oh_labels = get_preprocessed_ohe(test_images, test_labels)\n",
        "\n",
        "  # 학습 데이터를 검증 데이터로 다시 분리\n",
        "  tr_images, val_images, tr_oh_labels, val_oh_labels = train_test_split(train_images, train_oh_labels, test_size=valid_size, random_state=random_state)\n",
        "\n",
        "  return (tr_images, tr_oh_labels), (val_images, val_oh_labels), (test_images, test_oh_labels)\n",
        "\n",
        "# reandom seed는 2023으로 고정\n",
        "set_random_seed(2023)\n",
        "\n",
        "# CIFAR10 데이터 재로딩 및 Scaling/OHE 전처리 적용하려 학습/검증 데이터 세트 생성\n",
        "(train_images, train_labels), (test_images, test_labels) = cifar10.load_data()\n",
        "print('(before spliting validation data)','\\ntrain data :', train_images.shape, train_labels.shape, '\\nTest data : ', test_images.shape, test_labels.shape)\n",
        "\n",
        "(tr_images, tr_oh_labels), (val_images, val_oh_labels), (test_images, test_oh_labels) = \\\n",
        "  get_train_valid_test_set(train_images, train_labels, test_images, test_labels, valid_size=0.15, random_state=2021)\n",
        "\n",
        "# 학습/검증/테스트 세트 크기 출력\n",
        "print('\\nTrain data :',tr_images.shape, tr_oh_labels.shape, '\\nValidation data : ', val_images.shape, val_oh_labels.shape, '\\nTest data : ',test_images.shape, test_oh_labels.shape)"
      ]
    },
    {
      "cell_type": "markdown",
      "metadata": {
        "id": "7Dju-HjvYP8L"
      },
      "source": [
        "### 데이터셋 이미지 출력하는 함수"
      ]
    },
    {
      "cell_type": "code",
      "execution_count": null,
      "metadata": {
        "colab": {
          "base_uri": "https://localhost:8080/",
          "height": 344
        },
        "id": "yIyaSfUqYP8N",
        "outputId": "fdbf32ee-840f-4c53-af88-e5bba505addb"
      },
      "outputs": [
        {
          "output_type": "display_data",
          "data": {
            "text/plain": [
              "<Figure size 2200x600 with 8 Axes>"
            ],
            "image/png": "[encoded data removed]"
          },
          "metadata": {}
        },
        {
          "output_type": "display_data",
          "data": {
            "text/plain": [
              "<Figure size 2200x600 with 8 Axes>"
            ],
            "image/png": "[encoded data removed]"
          },
          "metadata": {}
        }
      ],
      "source": [
        "import matplotlib.pyplot as plt\n",
        "import cv2\n",
        "%matplotlib inline\n",
        "\n",
        "NAMES = np.array(['airplane', 'automobile', 'bird', 'cat', 'deer','dog','frog', 'horse', 'ship', 'truck'])\n",
        "\n",
        "# 이미지 보여주는 함수\n",
        "\n",
        "def show_images(images, labels, ncols=8):\n",
        "  figure, axs = plt.subplots(figsize=(22, 6), nrows=1, ncols=ncols)\n",
        "  for i in range(ncols):\n",
        "    axs[i].imshow(images[i]) # 서브플롯에 i번째의 이미지를 보여준다\n",
        "    label = labels[i].squeeze() # 1차원 > 0차원\n",
        "    axs[i].set_title(NAMES[int(label)]) # NAMES 배열에서 해당 label에 해당하는 문자를 서브플롯 제목으로 한다\n",
        "\n",
        "show_images(train_images[:8], train_labels[:8], ncols=8)\n",
        "show_images(train_images[8:16], train_labels[8:16], ncols=8)"
      ]
    },
    {
      "cell_type": "code",
      "execution_count": null,
      "metadata": {
        "colab": {
          "base_uri": "https://localhost:8080/"
        },
        "id": "n7IRcCX6YP8O",
        "outputId": "65b58688-8b8b-4b97-db4f-c05835615334"
      },
      "outputs": [
        {
          "output_type": "execute_result",
          "data": {
            "text/plain": [
              "array([[[[  3.,   3.,   3.],\n",
              "         [  3.,   3.,   3.],\n",
              "         [  3.,   3.,   3.],\n",
              "         ...,\n",
              "         [  3.,   3.,   2.],\n",
              "         [  3.,   3.,   1.],\n",
              "         [  3.,   3.,   1.]],\n",
              "\n",
              "        [[  3.,   3.,   3.],\n",
              "         [  3.,   3.,   3.],\n",
              "         [  3.,   3.,   3.],\n",
              "         ...,\n",
              "         [  3.,   3.,   2.],\n",
              "         [  3.,   3.,   2.],\n",
              "         [  3.,   3.,   2.]],\n",
              "\n",
              "        [[  3.,   3.,   3.],\n",
              "         [  3.,   3.,   3.],\n",
              "         [  3.,   3.,   3.],\n",
              "         ...,\n",
              "         [  3.,   3.,   3.],\n",
              "         [  3.,   3.,   4.],\n",
              "         [  3.,   3.,   4.]],\n",
              "\n",
              "        ...,\n",
              "\n",
              "        [[ 21.,  18.,  39.],\n",
              "         [ 18.,  14.,  37.],\n",
              "         [ 15.,  11.,  35.],\n",
              "         ...,\n",
              "         [ 16.,  13.,  31.],\n",
              "         [ 10.,   7.,  25.],\n",
              "         [  8.,   5.,  22.]],\n",
              "\n",
              "        [[ 23.,  20.,  40.],\n",
              "         [ 20.,  17.,  39.],\n",
              "         [ 20.,  17.,  39.],\n",
              "         ...,\n",
              "         [ 25.,  23.,  40.],\n",
              "         [ 21.,  18.,  37.],\n",
              "         [ 19.,  16.,  35.]],\n",
              "\n",
              "        [[ 26.,  23.,  42.],\n",
              "         [ 25.,  22.,  42.],\n",
              "         [ 26.,  23.,  44.],\n",
              "         ...,\n",
              "         [ 38.,  36.,  50.],\n",
              "         [ 34.,  31.,  47.],\n",
              "         [ 34.,  31.,  48.]]],\n",
              "\n",
              "\n",
              "       [[[141., 112.,  69.],\n",
              "         [139., 111.,  68.],\n",
              "         [141., 113.,  70.],\n",
              "         ...,\n",
              "         [127., 111.,  58.],\n",
              "         [130., 115.,  63.],\n",
              "         [137., 121.,  69.]],\n",
              "\n",
              "        [[114.,  92.,  52.],\n",
              "         [113.,  90.,  52.],\n",
              "         [123., 101.,  62.],\n",
              "         ...,\n",
              "         [133., 120.,  66.],\n",
              "         [124., 111.,  57.],\n",
              "         [131., 119.,  65.]],\n",
              "\n",
              "        [[120., 102.,  67.],\n",
              "         [127., 110.,  76.],\n",
              "         [131., 115.,  80.],\n",
              "         ...,\n",
              "         [141., 120.,  74.],\n",
              "         [133., 113.,  67.],\n",
              "         [138., 117.,  72.]],\n",
              "\n",
              "        ...,\n",
              "\n",
              "        [[252., 242., 241.],\n",
              "         [247., 237., 236.],\n",
              "         [247., 237., 236.],\n",
              "         ...,\n",
              "         [183., 162., 160.],\n",
              "         [178., 157., 154.],\n",
              "         [186., 165., 163.]],\n",
              "\n",
              "        [[243., 233., 232.],\n",
              "         [241., 231., 230.],\n",
              "         [242., 232., 231.],\n",
              "         ...,\n",
              "         [186., 166., 160.],\n",
              "         [184., 163., 158.],\n",
              "         [181., 160., 155.]],\n",
              "\n",
              "        [[252., 242., 241.],\n",
              "         [247., 237., 236.],\n",
              "         [246., 236., 235.],\n",
              "         ...,\n",
              "         [190., 169., 162.],\n",
              "         [196., 175., 168.],\n",
              "         [198., 178., 170.]]],\n",
              "\n",
              "\n",
              "       [[[ 62.,  71.,  39.],\n",
              "         [ 44.,  53.,  25.],\n",
              "         [ 36.,  48.,  21.],\n",
              "         ...,\n",
              "         [ 40.,  55.,  30.],\n",
              "         [ 41.,  56.,  30.],\n",
              "         [ 40.,  52.,  28.]],\n",
              "\n",
              "        [[ 63.,  71.,  41.],\n",
              "         [ 49.,  59.,  30.],\n",
              "         [ 31.,  42.,  16.],\n",
              "         ...,\n",
              "         [ 51.,  62.,  31.],\n",
              "         [ 54.,  66.,  34.],\n",
              "         [ 57.,  68.,  38.]],\n",
              "\n",
              "        [[ 55.,  63.,  34.],\n",
              "         [ 49.,  58.,  29.],\n",
              "         [ 35.,  47.,  20.],\n",
              "         ...,\n",
              "         [ 70.,  78.,  42.],\n",
              "         [ 76.,  84.,  48.],\n",
              "         [ 66.,  76.,  41.]],\n",
              "\n",
              "        ...,\n",
              "\n",
              "        [[ 54.,  69.,  39.],\n",
              "         [ 54.,  69.,  38.],\n",
              "         [ 58.,  73.,  38.],\n",
              "         ...,\n",
              "         [ 99., 109.,  48.],\n",
              "         [103., 113.,  57.],\n",
              "         [104., 115.,  60.]],\n",
              "\n",
              "        [[ 45.,  62.,  31.],\n",
              "         [ 47.,  64.,  31.],\n",
              "         [ 55.,  72.,  37.],\n",
              "         ...,\n",
              "         [107., 115.,  58.],\n",
              "         [106., 114.,  63.],\n",
              "         [108., 117.,  69.]],\n",
              "\n",
              "        [[ 40.,  59.,  27.],\n",
              "         [ 49.,  68.,  35.],\n",
              "         [ 55.,  73.,  37.],\n",
              "         ...,\n",
              "         [113., 120.,  66.],\n",
              "         [106., 116.,  64.],\n",
              "         [ 96., 104.,  58.]]],\n",
              "\n",
              "\n",
              "       ...,\n",
              "\n",
              "\n",
              "       [[[224., 218., 212.],\n",
              "         [236., 235., 230.],\n",
              "         [246., 245., 241.],\n",
              "         ...,\n",
              "         [226., 225., 218.],\n",
              "         [192., 191., 177.],\n",
              "         [186., 184., 171.]],\n",
              "\n",
              "        [[213., 208., 202.],\n",
              "         [232., 231., 226.],\n",
              "         [241., 241., 237.],\n",
              "         ...,\n",
              "         [237., 234., 227.],\n",
              "         [192., 190., 175.],\n",
              "         [184., 184., 165.]],\n",
              "\n",
              "        [[212., 206., 200.],\n",
              "         [221., 220., 215.],\n",
              "         [227., 227., 223.],\n",
              "         ...,\n",
              "         [227., 223., 213.],\n",
              "         [193., 190., 175.],\n",
              "         [181., 182., 160.]],\n",
              "\n",
              "        ...,\n",
              "\n",
              "        [[129., 125., 123.],\n",
              "         [122., 118., 116.],\n",
              "         [119., 114., 112.],\n",
              "         ...,\n",
              "         [135., 131., 132.],\n",
              "         [135., 131., 132.],\n",
              "         [134., 130., 131.]],\n",
              "\n",
              "        [[127., 124., 123.],\n",
              "         [124., 120., 119.],\n",
              "         [121., 118., 116.],\n",
              "         ...,\n",
              "         [134., 130., 131.],\n",
              "         [134., 130., 131.],\n",
              "         [134., 130., 131.]],\n",
              "\n",
              "        [[126., 124., 123.],\n",
              "         [125., 123., 122.],\n",
              "         [124., 122., 121.],\n",
              "         ...,\n",
              "         [134., 129., 130.],\n",
              "         [133., 128., 130.],\n",
              "         [133., 128., 129.]]],\n",
              "\n",
              "\n",
              "       [[[ 26.,  31.,  23.],\n",
              "         [ 26.,  31.,  23.],\n",
              "         [ 26.,  31.,  23.],\n",
              "         ...,\n",
              "         [124., 157., 195.],\n",
              "         [122., 154., 192.],\n",
              "         [124., 156., 198.]],\n",
              "\n",
              "        [[ 26.,  32.,  21.],\n",
              "         [ 25.,  31.,  21.],\n",
              "         [ 26.,  31.,  21.],\n",
              "         ...,\n",
              "         [129., 163., 202.],\n",
              "         [123., 157., 197.],\n",
              "         [121., 154., 199.]],\n",
              "\n",
              "        [[ 24.,  30.,  17.],\n",
              "         [ 23.,  29.,  16.],\n",
              "         [ 23.,  29.,  16.],\n",
              "         ...,\n",
              "         [128., 162., 202.],\n",
              "         [121., 155., 198.],\n",
              "         [118., 152., 198.]],\n",
              "\n",
              "        ...,\n",
              "\n",
              "        [[ 61.,  55.,  46.],\n",
              "         [ 62.,  55.,  47.],\n",
              "         [ 62.,  56.,  47.],\n",
              "         ...,\n",
              "         [ 60.,  59.,  37.],\n",
              "         [ 58.,  58.,  36.],\n",
              "         [ 58.,  57.,  35.]],\n",
              "\n",
              "        [[ 69.,  61.,  45.],\n",
              "         [ 66.,  59.,  43.],\n",
              "         [ 67.,  59.,  44.],\n",
              "         ...,\n",
              "         [ 64.,  62.,  31.],\n",
              "         [ 62.,  60.,  30.],\n",
              "         [ 60.,  58.,  28.]],\n",
              "\n",
              "        [[ 73.,  66.,  42.],\n",
              "         [ 67.,  60.,  37.],\n",
              "         [ 66.,  59.,  36.],\n",
              "         ...,\n",
              "         [ 63.,  58.,  34.],\n",
              "         [ 61.,  57.,  33.],\n",
              "         [ 67.,  62.,  38.]]],\n",
              "\n",
              "\n",
              "       [[[212., 222., 227.],\n",
              "         [215., 225., 231.],\n",
              "         [221., 226., 226.],\n",
              "         ...,\n",
              "         [253., 249., 251.],\n",
              "         [253., 251., 247.],\n",
              "         [252., 252., 243.]],\n",
              "\n",
              "        [[189., 198., 209.],\n",
              "         [202., 211., 222.],\n",
              "         [203., 206., 205.],\n",
              "         ...,\n",
              "         [229., 227., 229.],\n",
              "         [221., 225., 219.],\n",
              "         [214., 218., 208.]],\n",
              "\n",
              "        [[187., 187., 182.],\n",
              "         [203., 203., 200.],\n",
              "         [193., 191., 177.],\n",
              "         ...,\n",
              "         [224., 219., 222.],\n",
              "         [207., 203., 200.],\n",
              "         [225., 221., 214.]],\n",
              "\n",
              "        ...,\n",
              "\n",
              "        [[103.,  97., 109.],\n",
              "         [ 70.,  75.,  79.],\n",
              "         [ 50.,  67.,  61.],\n",
              "         ...,\n",
              "         [ 99., 114., 105.],\n",
              "         [104., 121., 111.],\n",
              "         [105., 122., 112.]],\n",
              "\n",
              "        [[124., 100.,  84.],\n",
              "         [ 89.,  88.,  77.],\n",
              "         [ 53.,  76.,  68.],\n",
              "         ...,\n",
              "         [103., 121., 112.],\n",
              "         [101., 121., 113.],\n",
              "         [107., 128., 119.]],\n",
              "\n",
              "        [[193., 152.,  51.],\n",
              "         [111.,  99.,  44.],\n",
              "         [ 53.,  76.,  69.],\n",
              "         ...,\n",
              "         [106., 126., 116.],\n",
              "         [108., 131., 123.],\n",
              "         [111., 135., 127.]]]], dtype=float32)"
            ]
          },
          "metadata": {},
          "execution_count": 6
        }
      ],
      "source": [
        "# 이미지 데이터도 확인해보자\n",
        "tr_images[:10]"
      ]
    },
    {
      "cell_type": "code",
      "execution_count": null,
      "metadata": {
        "id": "uRBOKF7aYP8P"
      },
      "outputs": [],
      "source": [
        "IMAGE_SIZE = 32\n",
        "BATCH_SIZE = 64"
      ]
    },
    {
      "cell_type": "markdown",
      "metadata": {
        "id": "ir_RX3olYP8Q"
      },
      "source": [
        "### ImageDataGenerator로 Augmentation 설정하고 학습용, 검증용 Generator 생성"
      ]
    },
    {
      "cell_type": "code",
      "execution_count": null,
      "metadata": {
        "id": "cMukT3ltYP8Q"
      },
      "outputs": [],
      "source": [
        "from random import shuffle\n",
        "from tensorflow.keras.preprocessing.image import ImageDataGenerator\n",
        "\n",
        "train_generator = ImageDataGenerator(\n",
        "  # rotation_range=20,\n",
        "  # zoom_range=(0.7, 0.9),\n",
        "  horizontal_flip=True,\n",
        "  # vertical_flip=True,\n",
        "  rescale=1/255.0\n",
        ")\n",
        "\n",
        "valid_generator = ImageDataGenerator(rescale=1/255.0) # valid에는 aug 적용 X\n",
        "\n",
        "flow_tr_gen = train_generator.flow(tr_images, tr_oh_labels, batch_size=BATCH_SIZE, shuffle=True)\n",
        "flow_val_gen = valid_generator.flow(val_images, val_oh_labels, batch_size=BATCH_SIZE, shuffle=True)"
      ]
    },
    {
      "cell_type": "markdown",
      "metadata": {
        "id": "-mdF69wFYP8R"
      },
      "source": [
        "### Keras CNN 모델 생성"
      ]
    },
    {
      "cell_type": "code",
      "execution_count": null,
      "metadata": {
        "id": "mqH5X6G1YP8R"
      },
      "outputs": [],
      "source": [
        "# 필요한 모듈 임포트\n",
        "\n",
        "from tensorflow.keras.models import Sequential, Model\n",
        "from tensorflow.keras.layers import Input, Dense, Conv2D, Dropout, Flatten, Activation, MaxPooling2D, GlobalAveragePooling2D\n",
        "from tensorflow.keras.optimizers import Adam, RMSprop\n",
        "from tensorflow.keras.layers import BatchNormalization\n",
        "from tensorflow.keras.callbacks import ReduceLROnPlateau, EarlyStopping, ModelCheckpoint, LearningRateScheduler"
      ]
    },
    {
      "cell_type": "code",
      "execution_count": null,
      "metadata": {
        "id": "7ukR-5KcYP8S"
      },
      "outputs": [],
      "source": [
        "def create_model(verbose=False):\n",
        "  input_tensor = Input(shape=(IMAGE_SIZE, IMAGE_SIZE, 3))\n",
        "\n",
        "  # x = Conv2D(filter=32, kernel_size=(5,5), padding='valid', activation='relu')(input_tensor)\n",
        "  x = Conv2D(filters=64, kernel_size=(3,3), padding='same')(input_tensor)\n",
        "  x = BatchNormalization()(x)\n",
        "  x = Activation('relu')(x)\n",
        "\n",
        "  x = Conv2D(filters=64, kernel_size=(3,3), padding='same')(x)\n",
        "  x = BatchNormalization()(x)\n",
        "  x = Activation('relu')(x)\n",
        "  x = MaxPooling2D(pool_size=(2,2))(x)\n",
        "\n",
        "  x = Conv2D(filters=128, kernel_size=3, padding='same')(x)\n",
        "  x = BatchNormalization()(x)\n",
        "  x = Activation('relu')(x)\n",
        "\n",
        "  x = Conv2D(filters=128, kernel_size=3, padding='same')(x)\n",
        "  x = BatchNormalization()(x)\n",
        "  x = Activation('relu')(x)\n",
        "  x = Activation('relu')(x)\n",
        "  x = MaxPooling2D(pool_size=2)(x)\n",
        "\n",
        "  x = Conv2D(filters=256, kernel_size=3, padding='same')(x)\n",
        "  x = BatchNormalization()(x)\n",
        "  x = Activation('relu')(x)\n",
        "\n",
        "  x = Conv2D(filters=256, kernel_size=3, padding='same')(x)\n",
        "  x = BatchNormalization()(x)\n",
        "  x = Activation('relu')(x)\n",
        "\n",
        "  x = Conv2D(filters=512, kernel_size=3, strides=2, padding='same')(x)\n",
        "  x = BatchNormalization()(x)\n",
        "  x = Activation('relu')(x)\n",
        "\n",
        "  # Flatten 대신 Global AveragePooling 을 적용한다\n",
        "  x = GlobalAveragePooling2D()(x)\n",
        "  x = Dropout(rate=0.5)(x)\n",
        "  x = Dense(50, activation='relu', name='fc1')(x)\n",
        "  x = Dropout(rate=0.2)(x)\n",
        "  output = Dense(10, activation='softmax', name='output')(x)\n",
        "\n",
        "  model = Model(inputs=input_tensor, outputs=output)\n",
        "  if verbose:\n",
        "    model.summary()\n",
        "\n",
        "  return model"
      ]
    },
    {
      "cell_type": "code",
      "execution_count": null,
      "metadata": {
        "colab": {
          "base_uri": "https://localhost:8080/"
        },
        "id": "QdmWSFv4YP8S",
        "outputId": "00a5a52a-38b9-4a4c-d941-58342920d5e3"
      },
      "outputs": [
        {
          "output_type": "stream",
          "name": "stdout",
          "text": [
            "Model: \"model\"\n",
            "_________________________________________________________________\n",
            " Layer (type)                Output Shape              Param #   \n",
            "=================================================================\n",
            " input_1 (InputLayer)        [(None, 32, 32, 3)]       0         \n",
            "                                                                 \n",
            " conv2d (Conv2D)             (None, 32, 32, 64)        1792      \n",
            "                                                                 \n",
            " batch_normalization (BatchN  (None, 32, 32, 64)       256       \n",
            " ormalization)                                                   \n",
            "                                                                 \n",
            " activation (Activation)     (None, 32, 32, 64)        0         \n",
            "                                                                 \n",
            " conv2d_1 (Conv2D)           (None, 32, 32, 64)        36928     \n",
            "                                                                 \n",
            " batch_normalization_1 (Batc  (None, 32, 32, 64)       256       \n",
            " hNormalization)                                                 \n",
            "                                                                 \n",
            " activation_1 (Activation)   (None, 32, 32, 64)        0         \n",
            "                                                                 \n",
            " max_pooling2d (MaxPooling2D  (None, 16, 16, 64)       0         \n",
            " )                                                               \n",
            "                                                                 \n",
            " conv2d_2 (Conv2D)           (None, 16, 16, 128)       73856     \n",
            "                                                                 \n",
            " batch_normalization_2 (Batc  (None, 16, 16, 128)      512       \n",
            " hNormalization)                                                 \n",
            "                                                                 \n",
            " activation_2 (Activation)   (None, 16, 16, 128)       0         \n",
            "                                                                 \n",
            " conv2d_3 (Conv2D)           (None, 16, 16, 128)       147584    \n",
            "                                                                 \n",
            " batch_normalization_3 (Batc  (None, 16, 16, 128)      512       \n",
            " hNormalization)                                                 \n",
            "                                                                 \n",
            " activation_3 (Activation)   (None, 16, 16, 128)       0         \n",
            "                                                                 \n",
            " activation_4 (Activation)   (None, 16, 16, 128)       0         \n",
            "                                                                 \n",
            " max_pooling2d_1 (MaxPooling  (None, 8, 8, 128)        0         \n",
            " 2D)                                                             \n",
            "                                                                 \n",
            " conv2d_4 (Conv2D)           (None, 8, 8, 256)         295168    \n",
            "                                                                 \n",
            " batch_normalization_4 (Batc  (None, 8, 8, 256)        1024      \n",
            " hNormalization)                                                 \n",
            "                                                                 \n",
            " activation_5 (Activation)   (None, 8, 8, 256)         0         \n",
            "                                                                 \n",
            " conv2d_5 (Conv2D)           (None, 8, 8, 256)         590080    \n",
            "                                                                 \n",
            " batch_normalization_5 (Batc  (None, 8, 8, 256)        1024      \n",
            " hNormalization)                                                 \n",
            "                                                                 \n",
            " activation_6 (Activation)   (None, 8, 8, 256)         0         \n",
            "                                                                 \n",
            " conv2d_6 (Conv2D)           (None, 4, 4, 512)         1180160   \n",
            "                                                                 \n",
            " batch_normalization_6 (Batc  (None, 4, 4, 512)        2048      \n",
            " hNormalization)                                                 \n",
            "                                                                 \n",
            " activation_7 (Activation)   (None, 4, 4, 512)         0         \n",
            "                                                                 \n",
            " global_average_pooling2d (G  (None, 512)              0         \n",
            " lobalAveragePooling2D)                                          \n",
            "                                                                 \n",
            " dropout (Dropout)           (None, 512)               0         \n",
            "                                                                 \n",
            " fc1 (Dense)                 (None, 50)                25650     \n",
            "                                                                 \n",
            " dropout_1 (Dropout)         (None, 50)                0         \n",
            "                                                                 \n",
            " output (Dense)              (None, 10)                510       \n",
            "                                                                 \n",
            "=================================================================\n",
            "Total params: 2,357,360\n",
            "Trainable params: 2,354,544\n",
            "Non-trainable params: 2,816\n",
            "_________________________________________________________________\n"
          ]
        },
        {
          "output_type": "stream",
          "name": "stderr",
          "text": [
            "WARNING:absl:`lr` is deprecated in Keras optimizer, please use `learning_rate` or use the legacy optimizer, e.g.,tf.keras.optimizers.legacy.Adam.\n",
            "WARNING:tensorflow:Learning rate reduction mode <built-in function min> is unknown, fallback to auto mode.\n",
            "WARNING:tensorflow:EarlyStopping mode <built-in function min> is unknown, fallback to auto mode.\n"
          ]
        }
      ],
      "source": [
        "model = create_model(verbose=True)\n",
        "model.compile(optimizer=Adam(lr=0.001), loss='categorical_crossentropy', metrics=['accuracy'])\n",
        "\n",
        "# 5번의 iteration 내에 validation loss가 향상되지 않으면 learning rate를 기존 learning rate * 0.2 로 줄임\n",
        "rlr_cb = ReduceLROnPlateau(monitor='val_loss', factor=0.2, patience=5, mode=min, verbose=1)\n",
        "# 10번 interation 내에 validation loss가 향상되지 않으면 더 이상 학습하지 않고 종료\n",
        "ely_cb = EarlyStopping(monitor='val_loss', patience=10, mode=min, verbose=1)"
      ]
    },
    {
      "cell_type": "code",
      "execution_count": null,
      "metadata": {
        "colab": {
          "base_uri": "https://localhost:8080/"
        },
        "id": "Nf9-QtMyYP8T",
        "outputId": "88ee5f90-dcf9-4603-e7e9-8646918e86a0"
      },
      "outputs": [
        {
          "output_type": "stream",
          "name": "stdout",
          "text": [
            "(64, 32, 32, 3) (64, 10)\n",
            "[[[0.19607845 0.3529412  0.12156864]\n",
            "  [0.18823531 0.3921569  0.11764707]\n",
            "  [0.23529413 0.454902   0.15686275]\n",
            "  ...\n",
            "  [0.9568628  0.9568628  0.9568628 ]\n",
            "  [0.9568628  0.9568628  0.9568628 ]\n",
            "  [0.9686275  0.9686275  0.9686275 ]]\n",
            "\n",
            " [[0.18039216 0.37647063 0.08235294]\n",
            "  [0.16470589 0.4156863  0.04313726]\n",
            "  [0.25490198 0.52156866 0.10588236]\n",
            "  ...\n",
            "  [1.         1.         1.        ]\n",
            "  [1.         1.         1.        ]\n",
            "  [1.         1.         1.        ]]\n",
            "\n",
            " [[0.13333334 0.34509805 0.07450981]\n",
            "  [0.15686275 0.427451   0.03921569]\n",
            "  [0.23137257 0.52156866 0.08235294]\n",
            "  ...\n",
            "  [0.9960785  0.9960785  0.9960785 ]\n",
            "  [0.9960785  0.9960785  0.9960785 ]\n",
            "  [1.         1.         1.        ]]\n",
            "\n",
            " ...\n",
            "\n",
            " [[0.17254902 0.227451   0.12156864]\n",
            "  [0.14901961 0.22352943 0.08235294]\n",
            "  [0.12156864 0.20784315 0.0627451 ]\n",
            "  ...\n",
            "  [0.7725491  0.8352942  0.60784316]\n",
            "  [0.7607844  0.8117648  0.57254905]\n",
            "  [0.78823537 0.8196079  0.5529412 ]]\n",
            "\n",
            " [[0.07058824 0.14901961 0.07058824]\n",
            "  [0.04705883 0.14117648 0.03137255]\n",
            "  [0.02745098 0.13333334 0.01960784]\n",
            "  ...\n",
            "  [0.79215693 0.882353   0.67058825]\n",
            "  [0.7686275  0.854902   0.627451  ]\n",
            "  [0.7686275  0.8431373  0.57254905]]\n",
            "\n",
            " [[0.11764707 0.20392159 0.13725491]\n",
            "  [0.08627451 0.18823531 0.09411766]\n",
            "  [0.05882353 0.17254902 0.07450981]\n",
            "  ...\n",
            "  [0.7686275  0.8352942  0.6509804 ]\n",
            "  [0.7568628  0.8235295  0.62352943]\n",
            "  [0.7411765  0.8117648  0.5647059 ]]]\n"
          ]
        }
      ],
      "source": [
        "image_batch, label_batch = next(flow_tr_gen)\n",
        "print(image_batch.shape, label_batch.shape)\n",
        "print(image_batch[0])"
      ]
    },
    {
      "cell_type": "code",
      "execution_count": null,
      "metadata": {
        "colab": {
          "base_uri": "https://localhost:8080/"
        },
        "id": "s3mZZWs5YP8T",
        "outputId": "a8061e85-9fd8-45de-984e-195e7908d987"
      },
      "outputs": [
        {
          "output_type": "execute_result",
          "data": {
            "text/plain": [
              "((42500, 32, 32, 3), (7500, 32, 32, 3))"
            ]
          },
          "metadata": {},
          "execution_count": 13
        }
      ],
      "source": [
        "tr_images.shape, val_images.shape"
      ]
    },
    {
      "cell_type": "code",
      "execution_count": null,
      "metadata": {
        "colab": {
          "base_uri": "https://localhost:8080/"
        },
        "id": "qcg85fcoYP8T",
        "outputId": "f10a5729-2de1-4ac7-92cc-29ee3d2e2f6a"
      },
      "outputs": [
        {
          "output_type": "stream",
          "name": "stdout",
          "text": [
            "Epoch 1/40\n",
            "665/665 [==============================] - 32s 24ms/step - loss: 1.4625 - accuracy: 0.4698 - val_loss: 1.4854 - val_accuracy: 0.4884 - lr: 0.0010\n",
            "Epoch 2/40\n",
            "665/665 [==============================] - 15s 23ms/step - loss: 1.0438 - accuracy: 0.6310 - val_loss: 1.4383 - val_accuracy: 0.5216 - lr: 0.0010\n",
            "Epoch 3/40\n",
            "665/665 [==============================] - 16s 24ms/step - loss: 0.8580 - accuracy: 0.7032 - val_loss: 1.1745 - val_accuracy: 0.5951 - lr: 0.0010\n",
            "Epoch 4/40\n",
            "665/665 [==============================] - 15s 23ms/step - loss: 0.7410 - accuracy: 0.7489 - val_loss: 0.9225 - val_accuracy: 0.6683 - lr: 0.0010\n",
            "Epoch 5/40\n",
            "665/665 [==============================] - 15s 23ms/step - loss: 0.6338 - accuracy: 0.7871 - val_loss: 0.8151 - val_accuracy: 0.7399 - lr: 0.0010\n",
            "Epoch 6/40\n",
            "665/665 [==============================] - 15s 23ms/step - loss: 0.5735 - accuracy: 0.8084 - val_loss: 0.7873 - val_accuracy: 0.7413 - lr: 0.0010\n",
            "Epoch 7/40\n",
            "665/665 [==============================] - 16s 23ms/step - loss: 0.5203 - accuracy: 0.8275 - val_loss: 0.7214 - val_accuracy: 0.7685 - lr: 0.0010\n",
            "Epoch 8/40\n",
            "665/665 [==============================] - 15s 23ms/step - loss: 0.4537 - accuracy: 0.8496 - val_loss: 0.5637 - val_accuracy: 0.8124 - lr: 0.0010\n",
            "Epoch 9/40\n",
            "665/665 [==============================] - 15s 23ms/step - loss: 0.4174 - accuracy: 0.8612 - val_loss: 0.6001 - val_accuracy: 0.7952 - lr: 0.0010\n",
            "Epoch 10/40\n",
            "665/665 [==============================] - 15s 23ms/step - loss: 0.3764 - accuracy: 0.8753 - val_loss: 0.5355 - val_accuracy: 0.8279 - lr: 0.0010\n",
            "Epoch 11/40\n",
            "665/665 [==============================] - 15s 23ms/step - loss: 0.3421 - accuracy: 0.8870 - val_loss: 0.4906 - val_accuracy: 0.8436 - lr: 0.0010\n",
            "Epoch 12/40\n",
            "665/665 [==============================] - 16s 24ms/step - loss: 0.3093 - accuracy: 0.8948 - val_loss: 0.5390 - val_accuracy: 0.8253 - lr: 0.0010\n",
            "Epoch 13/40\n",
            "665/665 [==============================] - 17s 25ms/step - loss: 0.2759 - accuracy: 0.9096 - val_loss: 0.5154 - val_accuracy: 0.8332 - lr: 0.0010\n",
            "Epoch 14/40\n",
            "665/665 [==============================] - 18s 26ms/step - loss: 0.2540 - accuracy: 0.9154 - val_loss: 0.4987 - val_accuracy: 0.8429 - lr: 0.0010\n",
            "Epoch 15/40\n",
            "665/665 [==============================] - 17s 26ms/step - loss: 0.2284 - accuracy: 0.9236 - val_loss: 0.8063 - val_accuracy: 0.7961 - lr: 0.0010\n",
            "Epoch 16/40\n",
            "665/665 [==============================] - ETA: 0s - loss: 0.2179 - accuracy: 0.9269\n",
            "Epoch 16: ReduceLROnPlateau reducing learning rate to 0.00020000000949949026.\n",
            "665/665 [==============================] - 19s 29ms/step - loss: 0.2179 - accuracy: 0.9269 - val_loss: 0.5355 - val_accuracy: 0.8416 - lr: 0.0010\n",
            "Epoch 17/40\n",
            "665/665 [==============================] - 18s 27ms/step - loss: 0.1288 - accuracy: 0.9591 - val_loss: 0.3662 - val_accuracy: 0.8949 - lr: 2.0000e-04\n",
            "Epoch 18/40\n",
            "665/665 [==============================] - 17s 25ms/step - loss: 0.0994 - accuracy: 0.9680 - val_loss: 0.3694 - val_accuracy: 0.8949 - lr: 2.0000e-04\n",
            "Epoch 19/40\n",
            "665/665 [==============================] - 17s 25ms/step - loss: 0.0811 - accuracy: 0.9739 - val_loss: 0.4007 - val_accuracy: 0.8939 - lr: 2.0000e-04\n",
            "Epoch 20/40\n",
            "665/665 [==============================] - 16s 24ms/step - loss: 0.0734 - accuracy: 0.9759 - val_loss: 0.3900 - val_accuracy: 0.8985 - lr: 2.0000e-04\n",
            "Epoch 21/40\n",
            "665/665 [==============================] - 18s 27ms/step - loss: 0.0657 - accuracy: 0.9790 - val_loss: 0.4299 - val_accuracy: 0.8932 - lr: 2.0000e-04\n",
            "Epoch 22/40\n",
            "664/665 [============================>.] - ETA: 0s - loss: 0.0558 - accuracy: 0.9827\n",
            "Epoch 22: ReduceLROnPlateau reducing learning rate to 4.0000001899898055e-05.\n",
            "665/665 [==============================] - 20s 31ms/step - loss: 0.0559 - accuracy: 0.9826 - val_loss: 0.4315 - val_accuracy: 0.8973 - lr: 2.0000e-04\n",
            "Epoch 23/40\n",
            "665/665 [==============================] - 16s 25ms/step - loss: 0.0432 - accuracy: 0.9868 - val_loss: 0.4116 - val_accuracy: 0.9009 - lr: 4.0000e-05\n",
            "Epoch 24/40\n",
            "665/665 [==============================] - 17s 26ms/step - loss: 0.0372 - accuracy: 0.9885 - val_loss: 0.4127 - val_accuracy: 0.9000 - lr: 4.0000e-05\n",
            "Epoch 25/40\n",
            "665/665 [==============================] - 18s 27ms/step - loss: 0.0342 - accuracy: 0.9897 - val_loss: 0.4197 - val_accuracy: 0.9012 - lr: 4.0000e-05\n",
            "Epoch 26/40\n",
            "665/665 [==============================] - 18s 27ms/step - loss: 0.0331 - accuracy: 0.9903 - val_loss: 0.4252 - val_accuracy: 0.8995 - lr: 4.0000e-05\n",
            "Epoch 27/40\n",
            "665/665 [==============================] - ETA: 0s - loss: 0.0326 - accuracy: 0.9903\n",
            "Epoch 27: ReduceLROnPlateau reducing learning rate to 8.000000525498762e-06.\n",
            "665/665 [==============================] - 17s 25ms/step - loss: 0.0326 - accuracy: 0.9903 - val_loss: 0.4281 - val_accuracy: 0.9008 - lr: 4.0000e-05\n",
            "Epoch 27: early stopping\n"
          ]
        }
      ],
      "source": [
        "'''\n",
        "history = model.fit(x=tr_images, y=tr_oh_labels, batch_size=32, epochs=30, shuffle=True,\n",
        "                    validation_data=(val_images, val_oh_labels),\n",
        "                    callbacks=[rlr_cb, ely_cb])\n",
        "'''\n",
        "\n",
        "# steps 횟수 구하기 위해 학습 데이터의 건수와 검증 데이터의 건수를 구함. stenps = ceil(학습데이터 건수 / BATCH_SIZE)\n",
        "tr_data_len = tr_images.shape[0]\n",
        "val_data_len = val_images.shape[0]\n",
        "history = model.fit(flow_tr_gen, epochs=40,\n",
        "                    steps_per_epoch=int(np.ceil(tr_data_len/BATCH_SIZE)),\n",
        "                    validation_data=flow_val_gen,\n",
        "                    validation_steps=int(np.ceil(val_data_len/BATCH_SIZE)),\n",
        "                    callbacks=[rlr_cb, ely_cb])"
      ]
    },
    {
      "cell_type": "code",
      "execution_count": null,
      "metadata": {
        "colab": {
          "base_uri": "https://localhost:8080/"
        },
        "id": "syFXCGQPYP8U",
        "outputId": "12715708-1e62-4d8c-8b01-d519611e7fed"
      },
      "outputs": [
        {
          "output_type": "stream",
          "name": "stdout",
          "text": [
            "157/157 [==============================] - 1s 9ms/step - loss: 0.4615 - accuracy: 0.8910\n"
          ]
        },
        {
          "output_type": "execute_result",
          "data": {
            "text/plain": [
              "[0.4614783227443695, 0.890999972820282]"
            ]
          },
          "metadata": {},
          "execution_count": 15
        }
      ],
      "source": [
        "# 테스트세트에 대에서도 generator 만들기\n",
        "test_genenrator = ImageDataGenerator(rescale=1/255.0)\n",
        "flow_test_gen = test_genenrator.flow(test_images, test_oh_labels, batch_size=BATCH_SIZE, shuffle=False)\n",
        "model.evaluate(flow_test_gen)"
      ]
    },
    {
      "cell_type": "code",
      "execution_count": null,
      "metadata": {
        "colab": {
          "base_uri": "https://localhost:8080/",
          "height": 368
        },
        "id": "PbC6rp5aYP8U",
        "outputId": "7cde53cb-c5e7-4f7a-f058-acf604c4487d"
      },
      "outputs": [
        {
          "output_type": "display_data",
          "data": {
            "text/plain": [
              "<Figure size 800x400 with 1 Axes>"
            ],
            "image/png": "[encoded data removed]"
          },
          "metadata": {}
        }
      ],
      "source": [
        "# 학습 결과를 시각화\n",
        "import matplotlib.pyplot as plt\n",
        "%matplotlib inline\n",
        "\n",
        "def show_history(history):\n",
        "  plt.figure(figsize=(8,4))\n",
        "  plt.yticks(np.arange(0, 1, 0.05))\n",
        "  plt.xticks(np.arange(0, 30, 2))\n",
        "  plt.plot(history.history['accuracy'], label='train')\n",
        "  plt.plot(history.history['val_accuracy'], label='valid')\n",
        "\n",
        "\n",
        "show_history(history)"
      ]
    },
    {
      "cell_type": "markdown",
      "source": [
        "### 원본 이미지 상황에 맞지 않거나 과도한 Augmentation은 오히려 성능을 저하시킴"
      ],
      "metadata": {
        "id": "PwqgDCXKchZF"
      }
    },
    {
      "cell_type": "code",
      "source": [
        "from tensorflow.keras.preprocessing.image import ImageDataGenerator\n",
        "\n",
        "# 학습 데이터셋에 대해 Generator 생성\n",
        "train_generator = ImageDataGenerator(\n",
        "    rotation_range=20,\n",
        "    zoom_range=(0.7, 0.9),\n",
        "    horizontal_flip=True,\n",
        "    vertical_flip=True,\n",
        "    rescale=1/255.0\n",
        ")\n",
        "\n",
        "# 검증 데이터셋에 대해 Generator 생성\n",
        "valid_generator = ImageDataGenerator(rescale=1/255.0) # 검증데이터는 aug X (학습용도 아니므로)\n",
        "\n",
        "# generator의 파이프라인\n",
        "flow_tr_gen = train_generator.flow(tr_images, tr_oh_labels, batch_size=BATCH_SIZE, shuffle=True)\n",
        "flow_val_gen = valid_generator.flow(val_images, val_oh_labels, batch_size=BATCH_SIZE, shuffle=False)\n",
        "\n",
        "# 모델 생성, 컴파일\n",
        "model = create_model()\n",
        "model.compile(optimizer=Adam(lr=0.001), loss='categorical_crossentropy', metrics=['accuracy'])\n",
        "\n",
        "# steps 횟수 구하기 위해 학습 데이터의 건수와 검증 데이터의 건수를 구함. steps = ceil(학습데이터건수 / BATCH_SIZE)\n",
        "tr_data_len = tr_images.shape[0] # 학습 데이터셋의 개수\n",
        "val_data_len = val_images.shape[0]\n",
        "\n",
        "# 학습 옵션을 설정하고 history변수에 저장\n",
        "history = model.fit(flow_tr_gen, epochs=40,\n",
        "                    steps_per_epoch=int(np.ceil(tr_data_len/BATCH_SIZE)),\n",
        "                    validation_data=flow_val_gen,\n",
        "                    validation_steps=int(np.ceil(val_data_len/BATCH_SIZE)),\n",
        "                    callbacks=[rlr_cb, ely_cb], verbose=1)"
      ],
      "metadata": {
        "colab": {
          "base_uri": "https://localhost:8080/"
        },
        "id": "H6TzRmsKcvS_",
        "outputId": "f2fceb5a-7bd5-473c-ab56-1fe80e282cc8"
      },
      "execution_count": null,
      "outputs": [
        {
          "output_type": "stream",
          "name": "stderr",
          "text": [
            "WARNING:absl:`lr` is deprecated in Keras optimizer, please use `learning_rate` or use the legacy optimizer, e.g.,tf.keras.optimizers.legacy.Adam.\n"
          ]
        },
        {
          "output_type": "stream",
          "name": "stdout",
          "text": [
            "Epoch 1/40\n",
            "665/665 [==============================] - 40s 52ms/step - loss: 1.7883 - accuracy: 0.3360 - val_loss: 2.4253 - val_accuracy: 0.2257 - lr: 0.0010\n",
            "Epoch 2/40\n",
            "665/665 [==============================] - 45s 68ms/step - loss: 1.4573 - accuracy: 0.4697 - val_loss: 2.2444 - val_accuracy: 0.3485 - lr: 0.0010\n",
            "Epoch 3/40\n",
            "665/665 [==============================] - 44s 66ms/step - loss: 1.2828 - accuracy: 0.5410 - val_loss: 1.5823 - val_accuracy: 0.4395 - lr: 0.0010\n",
            "Epoch 4/40\n",
            "665/665 [==============================] - 28s 42ms/step - loss: 1.1673 - accuracy: 0.5878 - val_loss: 1.5074 - val_accuracy: 0.5016 - lr: 0.0010\n",
            "Epoch 5/40\n",
            "665/665 [==============================] - 28s 42ms/step - loss: 1.0832 - accuracy: 0.6176 - val_loss: 2.1435 - val_accuracy: 0.4531 - lr: 0.0010\n",
            "Epoch 6/40\n",
            "665/665 [==============================] - 30s 45ms/step - loss: 1.0084 - accuracy: 0.6474 - val_loss: 1.2752 - val_accuracy: 0.5836 - lr: 0.0010\n",
            "Epoch 7/40\n",
            "665/665 [==============================] - 28s 42ms/step - loss: 0.9505 - accuracy: 0.6676 - val_loss: 1.4687 - val_accuracy: 0.5457 - lr: 0.0010\n",
            "Epoch 8/40\n",
            "665/665 [==============================] - 30s 45ms/step - loss: 0.9027 - accuracy: 0.6884 - val_loss: 1.3738 - val_accuracy: 0.5868 - lr: 0.0010\n",
            "Epoch 9/40\n",
            "665/665 [==============================] - 28s 42ms/step - loss: 0.8625 - accuracy: 0.7040 - val_loss: 1.2625 - val_accuracy: 0.5956 - lr: 0.0010\n",
            "Epoch 10/40\n",
            "665/665 [==============================] - 29s 44ms/step - loss: 0.8165 - accuracy: 0.7194 - val_loss: 0.8714 - val_accuracy: 0.7111 - lr: 0.0010\n",
            "Epoch 11/40\n",
            "665/665 [==============================] - 29s 43ms/step - loss: 0.7788 - accuracy: 0.7318 - val_loss: 0.8386 - val_accuracy: 0.7127 - lr: 0.0010\n",
            "Epoch 12/40\n",
            "665/665 [==============================] - 27s 41ms/step - loss: 0.7501 - accuracy: 0.7420 - val_loss: 0.8764 - val_accuracy: 0.7091 - lr: 0.0010\n",
            "Epoch 13/40\n",
            "665/665 [==============================] - 28s 41ms/step - loss: 0.7166 - accuracy: 0.7553 - val_loss: 1.1231 - val_accuracy: 0.6387 - lr: 0.0010\n",
            "Epoch 14/40\n",
            "665/665 [==============================] - 29s 43ms/step - loss: 0.6951 - accuracy: 0.7644 - val_loss: 0.8819 - val_accuracy: 0.6979 - lr: 0.0010\n",
            "Epoch 15/40\n",
            "665/665 [==============================] - 28s 42ms/step - loss: 0.6707 - accuracy: 0.7700 - val_loss: 0.9181 - val_accuracy: 0.7028 - lr: 0.0010\n",
            "Epoch 16/40\n",
            "665/665 [==============================] - 28s 42ms/step - loss: 0.6471 - accuracy: 0.7810 - val_loss: 0.7493 - val_accuracy: 0.7497 - lr: 0.0010\n",
            "Epoch 17/40\n",
            "665/665 [==============================] - 29s 43ms/step - loss: 0.6207 - accuracy: 0.7899 - val_loss: 0.7975 - val_accuracy: 0.7401 - lr: 0.0010\n",
            "Epoch 18/40\n",
            "665/665 [==============================] - 28s 42ms/step - loss: 0.6081 - accuracy: 0.7924 - val_loss: 0.9553 - val_accuracy: 0.7043 - lr: 0.0010\n",
            "Epoch 19/40\n",
            "665/665 [==============================] - 28s 42ms/step - loss: 0.5867 - accuracy: 0.8009 - val_loss: 0.8770 - val_accuracy: 0.7147 - lr: 0.0010\n",
            "Epoch 20/40\n",
            "665/665 [==============================] - 29s 43ms/step - loss: 0.5799 - accuracy: 0.8043 - val_loss: 1.1044 - val_accuracy: 0.6823 - lr: 0.0010\n",
            "Epoch 21/40\n",
            "665/665 [==============================] - 28s 42ms/step - loss: 0.5567 - accuracy: 0.8093 - val_loss: 0.6955 - val_accuracy: 0.7707 - lr: 0.0010\n",
            "Epoch 22/40\n",
            "665/665 [==============================] - 28s 42ms/step - loss: 0.5436 - accuracy: 0.8171 - val_loss: 0.7518 - val_accuracy: 0.7456 - lr: 0.0010\n",
            "Epoch 23/40\n",
            "665/665 [==============================] - 30s 45ms/step - loss: 0.5360 - accuracy: 0.8208 - val_loss: 0.7029 - val_accuracy: 0.7712 - lr: 0.0010\n",
            "Epoch 24/40\n",
            "665/665 [==============================] - 29s 43ms/step - loss: 0.5137 - accuracy: 0.8258 - val_loss: 0.7154 - val_accuracy: 0.7613 - lr: 0.0010\n",
            "Epoch 25/40\n",
            "665/665 [==============================] - 28s 42ms/step - loss: 0.5081 - accuracy: 0.8274 - val_loss: 0.7569 - val_accuracy: 0.7543 - lr: 0.0010\n",
            "Epoch 26/40\n",
            "664/665 [============================>.] - ETA: 0s - loss: 0.4900 - accuracy: 0.8344\n",
            "Epoch 26: ReduceLROnPlateau reducing learning rate to 0.00020000000949949026.\n",
            "665/665 [==============================] - 29s 43ms/step - loss: 0.4899 - accuracy: 0.8344 - val_loss: 0.9069 - val_accuracy: 0.7241 - lr: 0.0010\n",
            "Epoch 27/40\n",
            "665/665 [==============================] - 28s 42ms/step - loss: 0.4200 - accuracy: 0.8578 - val_loss: 0.5746 - val_accuracy: 0.8145 - lr: 2.0000e-04\n",
            "Epoch 28/40\n",
            "665/665 [==============================] - 28s 41ms/step - loss: 0.3953 - accuracy: 0.8668 - val_loss: 0.5700 - val_accuracy: 0.8157 - lr: 2.0000e-04\n",
            "Epoch 29/40\n",
            "665/665 [==============================] - 28s 43ms/step - loss: 0.3832 - accuracy: 0.8708 - val_loss: 0.5437 - val_accuracy: 0.8239 - lr: 2.0000e-04\n",
            "Epoch 30/40\n",
            "665/665 [==============================] - 28s 42ms/step - loss: 0.3800 - accuracy: 0.8716 - val_loss: 0.5001 - val_accuracy: 0.8347 - lr: 2.0000e-04\n",
            "Epoch 31/40\n",
            "665/665 [==============================] - 29s 43ms/step - loss: 0.3646 - accuracy: 0.8786 - val_loss: 0.5465 - val_accuracy: 0.8243 - lr: 2.0000e-04\n",
            "Epoch 32/40\n",
            "665/665 [==============================] - 29s 43ms/step - loss: 0.3629 - accuracy: 0.8767 - val_loss: 0.5382 - val_accuracy: 0.8272 - lr: 2.0000e-04\n",
            "Epoch 33/40\n",
            "665/665 [==============================] - 29s 43ms/step - loss: 0.3547 - accuracy: 0.8795 - val_loss: 0.5479 - val_accuracy: 0.8244 - lr: 2.0000e-04\n",
            "Epoch 34/40\n",
            "665/665 [==============================] - 28s 42ms/step - loss: 0.3496 - accuracy: 0.8813 - val_loss: 0.5739 - val_accuracy: 0.8161 - lr: 2.0000e-04\n",
            "Epoch 35/40\n",
            "664/665 [============================>.] - ETA: 0s - loss: 0.3444 - accuracy: 0.8825\n",
            "Epoch 35: ReduceLROnPlateau reducing learning rate to 4.0000001899898055e-05.\n",
            "665/665 [==============================] - 29s 44ms/step - loss: 0.3446 - accuracy: 0.8824 - val_loss: 0.5250 - val_accuracy: 0.8288 - lr: 2.0000e-04\n",
            "Epoch 36/40\n",
            "665/665 [==============================] - 29s 43ms/step - loss: 0.3269 - accuracy: 0.8897 - val_loss: 0.5116 - val_accuracy: 0.8341 - lr: 4.0000e-05\n",
            "Epoch 37/40\n",
            "665/665 [==============================] - 29s 43ms/step - loss: 0.3212 - accuracy: 0.8909 - val_loss: 0.5131 - val_accuracy: 0.8339 - lr: 4.0000e-05\n",
            "Epoch 38/40\n",
            "665/665 [==============================] - 30s 45ms/step - loss: 0.3164 - accuracy: 0.8924 - val_loss: 0.5124 - val_accuracy: 0.8337 - lr: 4.0000e-05\n",
            "Epoch 39/40\n",
            "665/665 [==============================] - 28s 42ms/step - loss: 0.3215 - accuracy: 0.8908 - val_loss: 0.5048 - val_accuracy: 0.8365 - lr: 4.0000e-05\n",
            "Epoch 40/40\n",
            "665/665 [==============================] - ETA: 0s - loss: 0.3135 - accuracy: 0.8937\n",
            "Epoch 40: ReduceLROnPlateau reducing learning rate to 8.000000525498762e-06.\n",
            "665/665 [==============================] - 28s 42ms/step - loss: 0.3135 - accuracy: 0.8937 - val_loss: 0.5122 - val_accuracy: 0.8351 - lr: 4.0000e-05\n",
            "Epoch 40: early stopping\n"
          ]
        }
      ]
    },
    {
      "cell_type": "code",
      "source": [
        "# 테스트 데이터셋에 대해 Genenrator 생성\n",
        "test_genenrator = ImageDataGenerator(rescale=1/255.0)\n",
        "flow_test_gen = test_genenrator.flow(test_images, test_oh_labels, batch_size=BATCH_SIZE, shuffle=False)\n",
        "model.evaluate(flow_test_gen) # 테스트는 평가만 한다"
      ],
      "metadata": {
        "colab": {
          "base_uri": "https://localhost:8080/"
        },
        "id": "vrEdSLIidZQg",
        "outputId": "841ab0a8-3731-4db4-be45-490135761422"
      },
      "execution_count": null,
      "outputs": [
        {
          "output_type": "stream",
          "name": "stdout",
          "text": [
            "157/157 [==============================] - 2s 10ms/step - loss: 0.5539 - accuracy: 0.8233\n"
          ]
        },
        {
          "output_type": "execute_result",
          "data": {
            "text/plain": [
              "[0.5539165735244751, 0.8233000040054321]"
            ]
          },
          "metadata": {},
          "execution_count": 26
        }
      ]
    }
  ],
  "metadata": {
    "kernelspec": {
      "display_name": "Python 3",
      "name": "python3"
    },
    "language_info": {
      "codemirror_mode": {
        "name": "ipython",
        "version": 3
      },
      "file_extension": ".py",
      "mimetype": "text/x-python",
      "name": "python",
      "nbconvert_exporter": "python",
      "pygments_lexer": "ipython3",
      "version": "3.11.4"
    },
    "orig_nbformat": 4,
    "colab": {
      "provenance": [],
      "toc_visible": true,
      "gpuType": "T4"
    },
    "accelerator": "GPU"
  },
  "nbformat": 4,
  "nbformat_minor": 0
}